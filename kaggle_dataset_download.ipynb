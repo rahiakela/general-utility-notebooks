{
  "nbformat": 4,
  "nbformat_minor": 0,
  "metadata": {
    "colab": {
      "name": "kaggle-dataset-download.ipynb",
      "provenance": [],
      "toc_visible": true,
      "include_colab_link": true
    },
    "kernelspec": {
      "name": "python3",
      "display_name": "Python 3"
    },
    "language_info": {
      "name": "python"
    }
  },
  "cells": [
    {
      "cell_type": "markdown",
      "metadata": {
        "id": "view-in-github",
        "colab_type": "text"
      },
      "source": [
        "<a href=\"https://colab.research.google.com/github/rahiakela/general-utility-notebooks/blob/main/kaggle_dataset_download.ipynb\" target=\"_parent\"><img src=\"https://colab.research.google.com/assets/colab-badge.svg\" alt=\"Open In Colab\"/></a>"
      ]
    },
    {
      "cell_type": "markdown",
      "source": [
        "##Kaggle Dataset Download"
      ],
      "metadata": {
        "id": "fxjJ9XCzkCA5"
      }
    },
    {
      "cell_type": "code",
      "source": [
        "from google.colab import drive\n",
        "drive.mount('/content/gdrive')"
      ],
      "metadata": {
        "colab": {
          "base_uri": "https://localhost:8080/"
        },
        "id": "x66e8lWQkPlF",
        "outputId": "1be5ee96-b478-4ff3-a376-cd52ed550ac7"
      },
      "execution_count": null,
      "outputs": [
        {
          "output_type": "stream",
          "name": "stdout",
          "text": [
            "Mounted at /content/gdrive\n"
          ]
        }
      ]
    },
    {
      "cell_type": "code",
      "source": [
        "import os\n",
        "# content/gdrive/My Drive/Kaggle is the path where kaggle.json is  present in the Google Drive\n",
        "os.environ['KAGGLE_CONFIG_DIR'] = \"/content/gdrive/MyDrive/kaggle-keys\""
      ],
      "metadata": {
        "id": "iHwuEGvgkT5U"
      },
      "execution_count": null,
      "outputs": []
    },
    {
      "cell_type": "code",
      "source": [
        "%%shell\n",
        "\n",
        "# download dataset from kaggle> URL: https://www.kaggle.com/competitions/AI4Code\n",
        "kaggle competitions download -c AI4Code\n",
        "\n",
        "unzip -qq AI4Code.zip\n",
        "rm -rf AI4Code.zip"
      ],
      "metadata": {
        "colab": {
          "base_uri": "https://localhost:8080/"
        },
        "id": "HaL8UZePkaBM",
        "outputId": "24aceee7-c9e6-4402-8e1f-029784ec99e8"
      },
      "execution_count": null,
      "outputs": [
        {
          "output_type": "stream",
          "name": "stdout",
          "text": [
            "Downloading AI4Code.zip to /content\n",
            " 97% 694M/714M [00:05<00:00, 171MB/s]\n",
            "100% 714M/714M [00:05<00:00, 141MB/s]\n"
          ]
        },
        {
          "output_type": "execute_result",
          "data": {
            "text/plain": [
              ""
            ]
          },
          "metadata": {},
          "execution_count": 3
        }
      ]
    },
    {
      "cell_type": "markdown",
      "source": [
        "## Using secret key"
      ],
      "metadata": {
        "id": "6Cg-pP2JDiM7"
      }
    },
    {
      "cell_type": "code",
      "source": [
        "from google.colab import userdata\n",
        "import os\n",
        "\n",
        "os.environ[\"KAGGLE_KEY\"] = userdata.get('KAGGLE_KEY')\n",
        "os.environ[\"KAGGLE_USERNAME\"] = userdata.get('KAGGLE_USERNAME')"
      ],
      "metadata": {
        "id": "9dJSgoOPDlCp"
      },
      "execution_count": 1,
      "outputs": []
    },
    {
      "cell_type": "code",
      "source": [
        "!kaggle datasets download -d hamzanabil/africa-cup-of-nations-squads-list\n",
        "\n",
        "! unzip \"africa-cup-of-nations-squads-list.zip\""
      ],
      "metadata": {
        "id": "d2gEtxbfDntp",
        "outputId": "99a70a62-5aed-4521-dad1-5f9b09eeccf1",
        "colab": {
          "base_uri": "https://localhost:8080/"
        }
      },
      "execution_count": 2,
      "outputs": [
        {
          "output_type": "stream",
          "name": "stdout",
          "text": [
            "Dataset URL: https://www.kaggle.com/datasets/hamzanabil/africa-cup-of-nations-squads-list\n",
            "License(s): Apache 2.0\n",
            "Downloading africa-cup-of-nations-squads-list.zip to /content\n",
            "  0% 0.00/50.3k [00:00<?, ?B/s]\n",
            "100% 50.3k/50.3k [00:00<00:00, 39.1MB/s]\n",
            "Archive:  africa-cup-of-nations-squads-list.zip\n",
            "  inflating: afcon-2023-final-squads-list.csv  \n",
            "  inflating: afcon-2023-provisional-squads-list.csv  \n"
          ]
        }
      ]
    }
  ]
}