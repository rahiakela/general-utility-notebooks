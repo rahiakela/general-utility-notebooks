{
  "nbformat": 4,
  "nbformat_minor": 0,
  "metadata": {
    "colab": {
      "provenance": [],
      "toc_visible": true,
      "authorship_tag": "ABX9TyNX0poClhots509KX6oBiNL",
      "include_colab_link": true
    },
    "kernelspec": {
      "name": "python3",
      "display_name": "Python 3"
    },
    "language_info": {
      "name": "python"
    }
  },
  "cells": [
    {
      "cell_type": "markdown",
      "metadata": {
        "id": "view-in-github",
        "colab_type": "text"
      },
      "source": [
        "<a href=\"https://colab.research.google.com/github/rahiakela/general-utility-notebooks/blob/main/convert_pdf_to_image.ipynb\" target=\"_parent\"><img src=\"https://colab.research.google.com/assets/colab-badge.svg\" alt=\"Open In Colab\"/></a>"
      ]
    },
    {
      "cell_type": "markdown",
      "source": [
        "##Setup"
      ],
      "metadata": {
        "id": "RdTDgXOhLca-"
      }
    },
    {
      "cell_type": "code",
      "source": [
        "!pip install pdf2image"
      ],
      "metadata": {
        "id": "lx7y6rYfLhuY"
      },
      "execution_count": null,
      "outputs": []
    },
    {
      "cell_type": "code",
      "source": [
        "!sudo apt-get install poppler-utils"
      ],
      "metadata": {
        "id": "s0ZoILq9fNaB"
      },
      "execution_count": null,
      "outputs": []
    },
    {
      "cell_type": "code",
      "source": [
        "from pdf2image import convert_from_path"
      ],
      "metadata": {
        "id": "g4NVvyFdLuB3"
      },
      "execution_count": null,
      "outputs": []
    },
    {
      "cell_type": "markdown",
      "source": [
        "## Convert PDF to Image"
      ],
      "metadata": {
        "id": "Dl1yNnTccNGM"
      }
    },
    {
      "cell_type": "code",
      "source": [
        "def convert_pdf_to_images(pdf_path, output_folder='output_images', dpi=200):\n",
        "    \"\"\"\n",
        "    Converts a PDF file to a series of image files.\n",
        "\n",
        "    Args:\n",
        "        pdf_path (str): The path to the input PDF file.\n",
        "        output_folder (str): The folder where the output images will be saved.\n",
        "        dpi (int): The DPI (dots per inch) for the output images.\n",
        "    \"\"\"\n",
        "    import os\n",
        "    if not os.path.exists(output_folder):\n",
        "        os.makedirs(output_folder)\n",
        "\n",
        "    try:\n",
        "        pages = convert_from_path(pdf_path, dpi=dpi)\n",
        "        for i, page in enumerate(pages):\n",
        "            image_filename = os.path.join(output_folder, f'page_{i+1}.jpg')\n",
        "            page.save(image_filename, 'JPEG')\n",
        "            print(f\"Saved {image_filename}\")\n",
        "    except Exception as e:\n",
        "        print(f\"An error occurred: {e}\")"
      ],
      "metadata": {
        "id": "sRh-pXSfcd3G"
      },
      "execution_count": null,
      "outputs": []
    },
    {
      "cell_type": "code",
      "source": [
        "# Replace 'example.pdf' with the actual path to your PDF file\n",
        "pdf_file = 'varish-yusuf-kewala.pdf'\n",
        "convert_pdf_to_images(pdf_file)"
      ],
      "metadata": {
        "id": "mozy1R4Hcf1N",
        "outputId": "fe62203d-68ce-46e5-e653-5bd8d2cd6897",
        "colab": {
          "base_uri": "https://localhost:8080/"
        }
      },
      "execution_count": null,
      "outputs": [
        {
          "output_type": "stream",
          "name": "stdout",
          "text": [
            "Saved output_images/page_1.jpg\n",
            "Saved output_images/page_2.jpg\n",
            "Saved output_images/page_3.jpg\n",
            "Saved output_images/page_4.jpg\n",
            "Saved output_images/page_5.jpg\n"
          ]
        }
      ]
    },
    {
      "cell_type": "code",
      "source": [
        "!zip -r output_images.zip output_images"
      ],
      "metadata": {
        "id": "2I3qt4XQe5HO",
        "outputId": "2d8afbd0-01b2-4f15-efef-182c0a9bfafe",
        "colab": {
          "base_uri": "https://localhost:8080/"
        }
      },
      "execution_count": null,
      "outputs": [
        {
          "output_type": "stream",
          "name": "stdout",
          "text": [
            "  adding: output_images/ (stored 0%)\n",
            "  adding: output_images/page_2.jpg (deflated 1%)\n",
            "  adding: output_images/page_5.jpg (deflated 3%)\n",
            "  adding: output_images/page_1.jpg (deflated 1%)\n",
            "  adding: output_images/page_4.jpg (deflated 1%)\n",
            "  adding: output_images/page_3.jpg (deflated 6%)\n"
          ]
        }
      ]
    }
  ]
}