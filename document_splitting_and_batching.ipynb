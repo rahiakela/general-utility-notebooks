{
  "nbformat": 4,
  "nbformat_minor": 0,
  "metadata": {
    "colab": {
      "provenance": [],
      "authorship_tag": "ABX9TyN2AgQ95zJyegS3VfUzYoKB",
      "include_colab_link": true
    },
    "kernelspec": {
      "name": "python3",
      "display_name": "Python 3"
    },
    "language_info": {
      "name": "python"
    }
  },
  "cells": [
    {
      "cell_type": "markdown",
      "metadata": {
        "id": "view-in-github",
        "colab_type": "text"
      },
      "source": [
        "<a href=\"https://colab.research.google.com/github/rahiakela/general-utility-notebooks/blob/main/document_splitting_and_batching.ipynb\" target=\"_parent\"><img src=\"https://colab.research.google.com/assets/colab-badge.svg\" alt=\"Open In Colab\"/></a>"
      ]
    },
    {
      "cell_type": "markdown",
      "source": [
        "##Setup"
      ],
      "metadata": {
        "id": "RdTDgXOhLca-"
      }
    },
    {
      "cell_type": "code",
      "source": [
        "%%capture\n",
        "\n",
        "!pip install PyPDF2\n",
        "!pip install pymupdf==1.22.0"
      ],
      "metadata": {
        "id": "lx7y6rYfLhuY"
      },
      "execution_count": 7,
      "outputs": []
    },
    {
      "cell_type": "code",
      "source": [
        "from PyPDF2 import PdfFileReader, PdfReader, PdfFileWriter, PdfWriter\n",
        "\n",
        "import os"
      ],
      "metadata": {
        "id": "g4NVvyFdLuB3"
      },
      "execution_count": 8,
      "outputs": []
    },
    {
      "cell_type": "markdown",
      "source": [
        "##Splitting PDF"
      ],
      "metadata": {
        "id": "8zay5i5ILfmX"
      }
    },
    {
      "cell_type": "code",
      "source": [
        "!mkdir input_pdf output_pdf\n",
        "!cp 36_PDF_common_sample_4.pdf input_pdf"
      ],
      "metadata": {
        "id": "jFb8nioFPuEa"
      },
      "execution_count": null,
      "outputs": []
    },
    {
      "cell_type": "code",
      "source": [
        "INPUT_PDF_FILES_PATH = \"input_pdf\"\n",
        "OUTPUT_PDF_FILES_PATH = \"output_pdf\"\n",
        "\n",
        "def split_pdf(input_pdf_file):\n",
        "    pdf_in_file = open(input_pdf_file, \"rb\")\n",
        "    pdf = PdfReader(pdf_in_file)\n",
        "    pdf_list = []\n",
        "    for page in range(len(pdf.pages)):\n",
        "        input_pdf = PdfReader(pdf_in_file)\n",
        "        output = PdfWriter()\n",
        "        output.add_page(input_pdf.pages[page])\n",
        "        with open(f\"{OUTPUT_PDF_FILES_PATH}/page-{page}.pdf\", \"wb\") as outputStream:\n",
        "            output.write(outputStream)\n",
        "            pdf_list.append(f\"page-{page}.pdf\")\n",
        "    return pdf_list"
      ],
      "metadata": {
        "id": "2FPY1BPcL4EM"
      },
      "execution_count": 4,
      "outputs": []
    },
    {
      "cell_type": "code",
      "source": [
        "for pdf_file in os.listdir(INPUT_PDF_FILES_PATH):\n",
        "  pdf_file_name = f\"{INPUT_PDF_FILES_PATH}/{pdf_file}\"\n",
        "\n",
        "  # Splitting pdf file\n",
        "  print(\"Splitting pdf file............\")\n",
        "  pdf_list = split_pdf(pdf_file_name)\n",
        "  print(\"Done\")\n",
        "\n",
        "print(len(pdf_list))"
      ],
      "metadata": {
        "colab": {
          "base_uri": "https://localhost:8080/"
        },
        "id": "Q0gCwA9EMFP4",
        "outputId": "20a5751f-e919-4384-8b95-69360cc6cc2f"
      },
      "execution_count": 5,
      "outputs": [
        {
          "output_type": "stream",
          "name": "stdout",
          "text": [
            "Step-1: Splitting pdf file............\n",
            "314\n"
          ]
        }
      ]
    },
    {
      "cell_type": "markdown",
      "source": [
        "##Batching PDF"
      ],
      "metadata": {
        "id": "DmbRLBubOW22"
      }
    },
    {
      "cell_type": "code",
      "source": [
        "!rm -rf output_pdf\n",
        "!mkdir output_pdf"
      ],
      "metadata": {
        "id": "d902Hqw_QYqe"
      },
      "execution_count": 13,
      "outputs": []
    },
    {
      "cell_type": "code",
      "source": [
        "# Read the original PDF\n",
        "input_pdf = PdfReader(f'36_PDF_common_sample_4.pdf')\n",
        "\n",
        "batch_size = 10\n",
        "num_batches = len(input_pdf.pages) // batch_size + 1\n",
        "\n",
        "# Extract batches of 100 pages from the PDF\n",
        "for b in range(num_batches):\n",
        "    writer = PdfWriter()\n",
        "\n",
        "    # Get the start and end page numbers for this batch\n",
        "    start_page = b * batch_size\n",
        "    end_page = min((b+1) * batch_size, len(input_pdf.pages))\n",
        "\n",
        "    # Add pages in this batch to the writer\n",
        "    for i in range(start_page, end_page):\n",
        "        writer.add_page(input_pdf.pages[i])\n",
        "\n",
        "    # Save the batch to a separate PDF file\n",
        "    batch_filename = f'output_pdf/test-batch{b+1}.pdf'\n",
        "    with open(batch_filename, 'wb') as output_file:\n",
        "        writer.write(output_file)"
      ],
      "metadata": {
        "id": "Df9UtUazOZcI"
      },
      "execution_count": 14,
      "outputs": []
    }
  ]
}