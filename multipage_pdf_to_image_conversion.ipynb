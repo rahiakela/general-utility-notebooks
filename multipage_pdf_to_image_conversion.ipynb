{
  "nbformat": 4,
  "nbformat_minor": 0,
  "metadata": {
    "colab": {
      "provenance": [],
      "authorship_tag": "ABX9TyPsuic9aqQQ8N3pYJITXKL+",
      "include_colab_link": true
    },
    "kernelspec": {
      "name": "python3",
      "display_name": "Python 3"
    },
    "language_info": {
      "name": "python"
    }
  },
  "cells": [
    {
      "cell_type": "markdown",
      "metadata": {
        "id": "view-in-github",
        "colab_type": "text"
      },
      "source": [
        "<a href=\"https://colab.research.google.com/github/rahiakela/general-utility-notebooks/blob/main/multipage_pdf_to_image_conversion.ipynb\" target=\"_parent\"><img src=\"https://colab.research.google.com/assets/colab-badge.svg\" alt=\"Open In Colab\"/></a>"
      ]
    },
    {
      "cell_type": "markdown",
      "source": [
        "## Setup"
      ],
      "metadata": {
        "id": "Ftkxwgo0ygZd"
      }
    },
    {
      "cell_type": "markdown",
      "source": [
        "**Reference**:\n",
        "\n",
        "https://mtyurt.net/post/2019/multipage-pdf-to-jpeg-image-in-python.html"
      ],
      "metadata": {
        "id": "Tf0yqYMW1IlG"
      }
    },
    {
      "cell_type": "code",
      "source": [
        "%%shell\n",
        "\n",
        "pip install pillow\n",
        "pip install pdf2image"
      ],
      "metadata": {
        "id": "lC0zWTXJyixa"
      },
      "execution_count": null,
      "outputs": []
    },
    {
      "cell_type": "code",
      "source": [
        "!sudo apt install build-essential libpoppler-cpp-dev pkg-config python3-dev\n",
        "!sudo apt install tesseract-ocr\n",
        "!sudo apt-get install poppler-utils"
      ],
      "metadata": {
        "id": "2QfT3fXgy2bz"
      },
      "execution_count": null,
      "outputs": []
    },
    {
      "cell_type": "code",
      "source": [
        "import os\n",
        "import tempfile\n",
        "from pdf2image import convert_from_path\n",
        "from PIL import Image"
      ],
      "metadata": {
        "id": "-uOwW0iGzQil"
      },
      "execution_count": 4,
      "outputs": []
    },
    {
      "cell_type": "markdown",
      "source": [
        "## PDF to Image"
      ],
      "metadata": {
        "id": "rINgDsavywBy"
      }
    },
    {
      "cell_type": "code",
      "source": [
        "def convert_pdf(file_path, output_path):\n",
        "    # save temp image files in temp dir, delete them after we are finished\n",
        "    with tempfile.TemporaryDirectory() as temp_dir:\n",
        "\n",
        "        # convert pdf to multiple image\n",
        "        images = convert_from_path(file_path, output_folder=temp_dir)\n",
        "\n",
        "        # save images to temporary directory\n",
        "        temp_images = []\n",
        "        for i in range(len(images)):\n",
        "            image_path = f'{temp_dir}/{i}.jpg'\n",
        "            images[i].save(image_path, 'JPEG')\n",
        "            temp_images.append(image_path)\n",
        "\n",
        "        # read images into pillow.Image\n",
        "        imgs = list(map(Image.open, temp_images))\n",
        "\n",
        "    # find maximum width of images\n",
        "    max_img_width = max(i.width for i in imgs)\n",
        "\n",
        "    # find total height of all images\n",
        "    total_height = 0\n",
        "    for i, img in enumerate(imgs):\n",
        "        total_height += imgs[i].height\n",
        "\n",
        "    # create new image object with width and total height\n",
        "    merged_image = Image.new(imgs[0].mode, (max_img_width, total_height))\n",
        "\n",
        "    # paste images together one by one\n",
        "    y = 0\n",
        "    for img in imgs:\n",
        "        merged_image.paste(img, (0, y))\n",
        "        y += img.height\n",
        "\n",
        "    # save merged image\n",
        "    merged_image.save(output_path)\n",
        "\n",
        "    return output_path"
      ],
      "metadata": {
        "id": "vZcvLJ8AzbJy"
      },
      "execution_count": 8,
      "outputs": []
    },
    {
      "cell_type": "code",
      "source": [
        "!mkdir img_output"
      ],
      "metadata": {
        "id": "1MtWGr9SzdIe"
      },
      "execution_count": 6,
      "outputs": []
    },
    {
      "cell_type": "code",
      "source": [
        "output_path = convert_pdf(\"8_California.pdf\", \"img_output/8_California.jpg\")"
      ],
      "metadata": {
        "id": "Tm7V_xLHzvqw"
      },
      "execution_count": 9,
      "outputs": []
    }
  ]
}