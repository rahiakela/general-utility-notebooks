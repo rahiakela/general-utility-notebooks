{
  "cells": [
    {
      "cell_type": "markdown",
      "metadata": {
        "id": "view-in-github",
        "colab_type": "text"
      },
      "source": [
        "<a href=\"https://colab.research.google.com/github/rahiakela/general-utility-notebooks/blob/main/arabic_to_eng_with_gemini.ipynb\" target=\"_parent\"><img src=\"https://colab.research.google.com/assets/colab-badge.svg\" alt=\"Open In Colab\"/></a>"
      ]
    },
    {
      "cell_type": "markdown",
      "id": "ad9b4b85-9d17-468c-b244-73a1c5191e3e",
      "metadata": {
        "id": "ad9b4b85-9d17-468c-b244-73a1c5191e3e"
      },
      "source": [
        "# Setup"
      ]
    },
    {
      "cell_type": "markdown",
      "source": [
        "**Reference**:\n",
        "\n",
        "https://colab.research.google.com/github/google/generative-ai-docs/blob/main/site/en/gemini-api/docs/vision.ipynb"
      ],
      "metadata": {
        "id": "HLohmwkyxfJ3"
      },
      "id": "HLohmwkyxfJ3"
    },
    {
      "cell_type": "code",
      "source": [
        "!pip install -q -U google-generativeai"
      ],
      "metadata": {
        "id": "2Y-_3oA9r0Ye"
      },
      "id": "2Y-_3oA9r0Ye",
      "execution_count": null,
      "outputs": []
    },
    {
      "cell_type": "code",
      "source": [
        "%%shell\n",
        "\n",
        "pip install pillow\n",
        "pip install pdf2image"
      ],
      "metadata": {
        "id": "t-8Uukwzdew6"
      },
      "id": "t-8Uukwzdew6",
      "execution_count": null,
      "outputs": []
    },
    {
      "cell_type": "code",
      "source": [
        "!sudo apt install build-essential libpoppler-cpp-dev pkg-config python3-dev\n",
        "!sudo apt install tesseract-ocr\n",
        "!sudo apt-get install poppler-utils"
      ],
      "metadata": {
        "id": "00kun44ffeNe"
      },
      "id": "00kun44ffeNe",
      "execution_count": null,
      "outputs": []
    },
    {
      "cell_type": "code",
      "source": [
        "import os\n",
        "import tempfile\n",
        "from pdf2image import convert_from_path\n",
        "from PIL import Image\n",
        "import base64\n",
        "from IPython.display import Markdown\n",
        "\n",
        "import google.generativeai as genai"
      ],
      "metadata": {
        "id": "vJh0grDIfmmf"
      },
      "id": "vJh0grDIfmmf",
      "execution_count": null,
      "outputs": []
    },
    {
      "cell_type": "code",
      "source": [
        "!wget https://github.com/rahiakela/genai-research-and-practice/raw/main/gemini-projects/dataset.zip?raw=true -O dataset.zip\n",
        "!unzip dataset.zip"
      ],
      "metadata": {
        "id": "C0wMH2itZx9-"
      },
      "id": "C0wMH2itZx9-",
      "execution_count": null,
      "outputs": []
    },
    {
      "cell_type": "code",
      "source": [
        "from google.colab import userdata\n",
        "GOOGLE_API_KEY=userdata.get('GOOGLE_API_KEY')\n",
        "\n",
        "genai.configure(api_key=GOOGLE_API_KEY)"
      ],
      "metadata": {
        "id": "73Kz9XvXsz0k"
      },
      "id": "73Kz9XvXsz0k",
      "execution_count": null,
      "outputs": []
    },
    {
      "cell_type": "markdown",
      "source": [
        "## PDF to Image"
      ],
      "metadata": {
        "id": "kmp9dyDjfwZF"
      },
      "id": "kmp9dyDjfwZF"
    },
    {
      "cell_type": "code",
      "source": [
        "def convert_pdf(file_path, output_path):\n",
        "    # save temp image files in temp dir, delete them after we are finished\n",
        "    with tempfile.TemporaryDirectory() as temp_dir:\n",
        "\n",
        "        # convert pdf to multiple image\n",
        "        images = convert_from_path(file_path, output_folder=temp_dir)\n",
        "\n",
        "        # save images to temporary directory\n",
        "        temp_images = []\n",
        "        for i in range(len(images)):\n",
        "            image_path = f'{temp_dir}/{i}.jpg'\n",
        "            images[i].save(image_path, 'JPEG')\n",
        "            temp_images.append(image_path)\n",
        "\n",
        "        # read images into pillow.Image\n",
        "        imgs = list(map(Image.open, temp_images))\n",
        "\n",
        "    # find maximum width of images\n",
        "    max_img_width = max(i.width for i in imgs)\n",
        "\n",
        "    # find total height of all images\n",
        "    total_height = 0\n",
        "    for i, img in enumerate(imgs):\n",
        "        total_height += imgs[i].height\n",
        "\n",
        "    # create new image object with width and total height\n",
        "    merged_image = Image.new(imgs[0].mode, (max_img_width, total_height))\n",
        "\n",
        "    # paste images together one by one\n",
        "    y = 0\n",
        "    for img in imgs:\n",
        "        merged_image.paste(img, (0, y))\n",
        "        y += img.height\n",
        "\n",
        "    # save merged image\n",
        "    merged_image.save(output_path)\n",
        "\n",
        "    return output_path"
      ],
      "metadata": {
        "id": "54Ab9V7tfxgY"
      },
      "id": "54Ab9V7tfxgY",
      "execution_count": null,
      "outputs": []
    },
    {
      "cell_type": "code",
      "source": [
        "!mkdir img_output"
      ],
      "metadata": {
        "id": "7dSp8yTyf50X"
      },
      "id": "7dSp8yTyf50X",
      "execution_count": null,
      "outputs": []
    },
    {
      "cell_type": "code",
      "source": [
        "output_path = convert_pdf(\"Input_arabic.pdf\", \"img_output/input_arabic.jpg\")"
      ],
      "metadata": {
        "id": "uMXhAUsUf9_G"
      },
      "id": "uMXhAUsUf9_G",
      "execution_count": null,
      "outputs": []
    },
    {
      "cell_type": "markdown",
      "source": [
        "## Image bytes"
      ],
      "metadata": {
        "id": "oS_LtSKKhjq1"
      },
      "id": "oS_LtSKKhjq1"
    },
    {
      "cell_type": "code",
      "source": [
        "from PIL import Image\n",
        "\n",
        "# Specify the file path\n",
        "file_path = 'img_output/input_arabic.jpg'\n",
        "image_url = Image.open(file_path)"
      ],
      "metadata": {
        "id": "xc86FzK7lZNp"
      },
      "id": "xc86FzK7lZNp",
      "execution_count": null,
      "outputs": []
    },
    {
      "cell_type": "code",
      "source": [
        "display(image_url)"
      ],
      "metadata": {
        "id": "TCSQFPsztOc8"
      },
      "id": "TCSQFPsztOc8",
      "execution_count": null,
      "outputs": []
    },
    {
      "cell_type": "code",
      "source": [
        "# Convert the image to bytes\n",
        "import io\n",
        "buffered = io.BytesIO()\n",
        "image_url.save(buffered, format=\"JPEG\")\n",
        "img_bytes = buffered.getvalue()"
      ],
      "metadata": {
        "id": "YM6ojGcTuZ-8"
      },
      "id": "YM6ojGcTuZ-8",
      "execution_count": null,
      "outputs": []
    },
    {
      "cell_type": "markdown",
      "source": [
        "## Translatation"
      ],
      "metadata": {
        "id": "WpXUOtfVxAzm"
      },
      "id": "WpXUOtfVxAzm"
    },
    {
      "cell_type": "code",
      "source": [
        "# Choose a Gemini model\n",
        "model = genai.GenerativeModel(model_name=\"gemini-1.5-pro\")\n",
        "\n",
        "# Create a prompt\n",
        "prompt = \"You are an Arabic to English translator expert that translates Arabic to English. Traslate Arabic text into English based on the provided image.\"\n",
        "response = model.generate_content(\n",
        "    [\n",
        "        {\n",
        "            \"mime_type\": \"image/jpeg\",\n",
        "            \"data\": base64.b64encode(img_bytes).decode(\"utf-8\"),\n",
        "        },\n",
        "        prompt,\n",
        "    ]\n",
        ")"
      ],
      "metadata": {
        "id": "4TewzTHRtqj3"
      },
      "id": "4TewzTHRtqj3",
      "execution_count": null,
      "outputs": []
    },
    {
      "cell_type": "code",
      "source": [
        "Markdown(\">\" + response.text)"
      ],
      "metadata": {
        "id": "n1ZXJmw0uDSM",
        "outputId": "9afc5879-b167-447d-ddcd-c5551cff9542",
        "colab": {
          "base_uri": "https://localhost:8080/",
          "height": 370
        }
      },
      "id": "n1ZXJmw0uDSM",
      "execution_count": null,
      "outputs": [
        {
          "output_type": "execute_result",
          "data": {
            "text/plain": [
              "<IPython.core.display.Markdown object>"
            ],
            "text/markdown": ">This document appears to be a financial report in Arabic, likely audited by Deloitte.  Due to the image quality and the narrow, elongated format, it is extremely difficult to provide an accurate and complete translation.  The blurriness makes many of the numbers and even some of the words illegible.  A clearer image, or ideally a text version of the document, would be required for a proper translation.\n\nHowever, I can provide a general idea of what some sections *likely* contain based on common financial document structure and the few legible words:\n\n* **Deloitte header/cover:** This clearly identifies Deloitte as the firm involved. The Arabic text likely refers to the report's title and perhaps the client's name.\n* **Tables of numbers:**  These likely represent financial data.  Common elements that might appear include:\n    * **Assets, Liabilities, and Equity:**  (موجودات, مطلوبات, حقوق الملكية)\n    * **Income Statement:** (قائمة الدخل) Showing revenues, expenses, and profit/loss.\n    * **Cash Flow Statement:** (قائمة التدفقات النقدية) Detailing cash inflows and outflows.\n* **Arabic text descriptions:**  These sections likely explain the figures in the tables, provide context, and offer analysis. They may also include footnotes and disclosures.\n* **\"Scanned by CamScanner\" footer:** This simply indicates the method used to create the digital copy.\n\nTo get a usable translation, you will need to provide a clearer image or a text version of the document. If you have specific sections you are most interested in, please provide cropped, higher-resolution images of those sections and I will do my best to translate them.\n"
          },
          "metadata": {},
          "execution_count": 47
        }
      ]
    },
    {
      "cell_type": "markdown",
      "source": [
        "```log\n",
        "This document appears to be a financial report or audit statement prepared by Deloitte, likely for a client in a region where Arabic is used. Because the image is blurry and fragmented, providing a completely accurate translation is impossible. However, I can give you a general idea of what some sections likely contain:\n",
        "\n",
        "Cover Page: This shows the Deloitte logo and likely includes information like the report title, client name (redacted in this case), and date. The Arabic phrase likely translates to something similar to \"Independent Auditor's Report.\"\n",
        "\n",
        "Subsequent Pages: These pages contain financial data presented in tables. Typical elements that can be inferred, though the numbers are unreadable:\n",
        "\n",
        "Amounts in Arabic numerals: These are financial figures, likely in the local currency.\n",
        "Column Headings: Likely represent periods (e.g., \"Current Year,\" \"Prior Year,\" possibly quarters or months). Other columns might indicate \"Description\" or \"Account Name.\"\n",
        "Row Labels (Arabic text): These would be the names of accounts (e.g., \"Cash and Cash Equivalents,\" \"Accounts Receivable,\" \"Revenue,\" \"Expenses,\" \"Net Income,\" etc.). Due to blurriness, providing specific translations is impossible.\n",
        "Footnotes (Arabic text at page bottoms): These provide further explanations or details regarding the figures presented in the tables. They often explain accounting policies or significant events.\n",
        "\"Scanned by CamScanner\": Indicates the document was digitally scanned.\n",
        "Narrative Sections (Arabic Text): These sections, also too blurry to read, would contain explanations and analysis of the financial data. They'd likely cover topics like:\n",
        "\n",
        "Basis of Presentation: Explains the accounting standards followed (e.g., IFRS).\n",
        "Key Performance Indicators: Discussion of important financial metrics.\n",
        "Risk Factors: Potential issues that could affect the company's financial performance.\n",
        "Auditor's Opinion: Deloitte's formal statement on the fairness and accuracy of the financial statements.\n",
        "To provide a more useful translation, you would need to provide a clearer image of the document. If you can provide a sharper image of specific sections you are most interested in, I can attempt a more precise translation.\n",
        "```"
      ],
      "metadata": {
        "id": "8FtwYqXPwE6G"
      },
      "id": "8FtwYqXPwE6G"
    },
    {
      "cell_type": "code",
      "execution_count": null,
      "id": "7f991a1f-6ce9-4463-9941-b35014df94f6",
      "metadata": {
        "id": "7f991a1f-6ce9-4463-9941-b35014df94f6"
      },
      "outputs": [],
      "source": [
        "model = genai.GenerativeModel(model_name=\"gemini-1.5-flash\")"
      ]
    },
    {
      "cell_type": "code",
      "source": [
        "# Create a prompt\n",
        "prompt = \"You are an Arabic to English translator expert that translates Arabic to English. Traslate Arabic text into English based on the provided image.\"\n",
        "response = model.generate_content(\n",
        "    [\n",
        "        {\n",
        "            \"mime_type\": \"image/jpeg\",\n",
        "            \"data\": base64.b64encode(img_bytes).decode(\"utf-8\"),\n",
        "        },\n",
        "        prompt,\n",
        "    ]\n",
        ")"
      ],
      "metadata": {
        "id": "qK4RzlKawORF"
      },
      "id": "qK4RzlKawORF",
      "execution_count": null,
      "outputs": []
    },
    {
      "cell_type": "code",
      "source": [
        "Markdown(\">\" + response.text)"
      ],
      "metadata": {
        "id": "ug_Jo5pZl-Ig",
        "colab": {
          "base_uri": "https://localhost:8080/",
          "height": 219
        },
        "outputId": "63dcc4f7-c458-495a-8f72-7db3d434a78a"
      },
      "id": "ug_Jo5pZl-Ig",
      "execution_count": null,
      "outputs": [
        {
          "output_type": "execute_result",
          "data": {
            "text/plain": [
              "<IPython.core.display.Markdown object>"
            ],
            "text/markdown": ">I cannot provide a complete translation of the provided document because the image quality is poor and blurry.  Much of the text is unreadable.  To get an accurate translation, I need a clearer image.\n\n\nHowever, I can offer some observations:\n\n* **The document appears to be a financial report or audit.**  There are numerous tables with numbers, likely representing financial data.  There are also sections that appear to be explanatory text.\n* **The language is Arabic.**  The text is written from right to left.\n* **Deloitte is mentioned.** This suggests the document is related to an audit or financial review conducted by the accounting firm.\n* **There are page numbers visible.** Indicating the length of the original document.\n\nTo receive an accurate translation, please provide a clear and high-resolution image of the document.\n"
          },
          "metadata": {},
          "execution_count": 52
        }
      ]
    }
  ],
  "metadata": {
    "colab": {
      "provenance": [],
      "toc_visible": true,
      "include_colab_link": true
    },
    "kernelspec": {
      "display_name": "Python 3 (ipykernel)",
      "language": "python",
      "name": "python3"
    },
    "language_info": {
      "codemirror_mode": {
        "name": "ipython",
        "version": 3
      },
      "file_extension": ".py",
      "mimetype": "text/x-python",
      "name": "python",
      "nbconvert_exporter": "python",
      "pygments_lexer": "ipython3",
      "version": "3.10.14"
    }
  },
  "nbformat": 4,
  "nbformat_minor": 5
}