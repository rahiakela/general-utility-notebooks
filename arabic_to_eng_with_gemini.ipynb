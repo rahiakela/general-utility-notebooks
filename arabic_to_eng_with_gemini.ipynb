{
  "cells": [
    {
      "cell_type": "markdown",
      "metadata": {
        "id": "view-in-github",
        "colab_type": "text"
      },
      "source": [
        "<a href=\"https://colab.research.google.com/github/rahiakela/general-utility-notebooks/blob/main/arabic_to_eng_with_gemini.ipynb\" target=\"_parent\"><img src=\"https://colab.research.google.com/assets/colab-badge.svg\" alt=\"Open In Colab\"/></a>"
      ]
    },
    {
      "cell_type": "markdown",
      "id": "ad9b4b85-9d17-468c-b244-73a1c5191e3e",
      "metadata": {
        "id": "ad9b4b85-9d17-468c-b244-73a1c5191e3e"
      },
      "source": [
        "## Setup"
      ]
    },
    {
      "cell_type": "markdown",
      "source": [
        "**Reference**:\n",
        "\n",
        "https://ai.google.dev/gemini-api/docs/document-processing?lang=python\n",
        "\n",
        "https://colab.research.google.com/github/google/generative-ai-docs/blob/main/site/en/gemini-api/docs/vision.ipynb\n",
        "\n",
        "https://learnopencv.com/optical-character-recognition-using-paddleocr/\n",
        "\n",
        "https://stackoverflow.com/questions/76728440/not-able-to-import-paddleocr-library-on-google-colab\n",
        "\n",
        "https://stackoverflow.com/questions/46184239/python-extract-a-pdf-page-as-a-jpeg"
      ],
      "metadata": {
        "id": "HLohmwkyxfJ3"
      },
      "id": "HLohmwkyxfJ3"
    },
    {
      "cell_type": "code",
      "source": [
        "!pip install -q -U google-generativeai"
      ],
      "metadata": {
        "id": "2Y-_3oA9r0Ye"
      },
      "id": "2Y-_3oA9r0Ye",
      "execution_count": 1,
      "outputs": []
    },
    {
      "cell_type": "code",
      "source": [
        "%%shell\n",
        "\n",
        "pip install pillow\n",
        "pip install pdf2image"
      ],
      "metadata": {
        "id": "t-8Uukwzdew6"
      },
      "id": "t-8Uukwzdew6",
      "execution_count": null,
      "outputs": []
    },
    {
      "cell_type": "code",
      "source": [
        "!sudo apt install build-essential libpoppler-cpp-dev pkg-config python3-dev\n",
        "!sudo apt install tesseract-ocr\n",
        "!sudo apt-get install poppler-utils"
      ],
      "metadata": {
        "id": "00kun44ffeNe"
      },
      "id": "00kun44ffeNe",
      "execution_count": null,
      "outputs": []
    },
    {
      "cell_type": "code",
      "source": [
        "!wget https://github.com/rahiakela/genai-research-and-practice/raw/main/gemini-projects/dataset.zip?raw=true -O dataset.zip\n",
        "!unzip dataset.zip"
      ],
      "metadata": {
        "id": "C0wMH2itZx9-"
      },
      "id": "C0wMH2itZx9-",
      "execution_count": null,
      "outputs": []
    },
    {
      "cell_type": "code",
      "source": [
        "import os\n",
        "import tempfile\n",
        "from pdf2image import convert_from_path\n",
        "from PIL import Image\n",
        "import base64\n",
        "from IPython.display import Markdown\n",
        "\n",
        "import google.generativeai as genai"
      ],
      "metadata": {
        "id": "YNqFuITeWIoh"
      },
      "id": "YNqFuITeWIoh",
      "execution_count": 3,
      "outputs": []
    },
    {
      "cell_type": "code",
      "source": [
        "from google.colab import userdata\n",
        "GOOGLE_API_KEY=userdata.get('GOOGLE_API_KEY')\n",
        "\n",
        "genai.configure(api_key=GOOGLE_API_KEY)"
      ],
      "metadata": {
        "id": "73Kz9XvXsz0k"
      },
      "id": "73Kz9XvXsz0k",
      "execution_count": 4,
      "outputs": []
    },
    {
      "cell_type": "markdown",
      "source": [
        "## Passing PDF"
      ],
      "metadata": {
        "id": "ppZjM9jUVVNI"
      },
      "id": "ppZjM9jUVVNI"
    },
    {
      "cell_type": "code",
      "source": [
        "sample_pdf = genai.upload_file(\"dataset/input_arabic.pdf\")"
      ],
      "metadata": {
        "id": "xxWCJdfOVbCN"
      },
      "id": "xxWCJdfOVbCN",
      "execution_count": 5,
      "outputs": []
    },
    {
      "cell_type": "code",
      "source": [
        "# Choose a Gemini model\n",
        "model = genai.GenerativeModel(model_name=\"gemini-1.5-pro\")\n",
        "\n",
        "# Create a prompt\n",
        "user_prompt = \"\"\"You are an Arabic to English translator expert that translates Arabic to English.\n",
        "            Traslate Arabic text into English based on the provided image.\n",
        "            Do NOT MAKE ANY ASSUMPTION.\n",
        "          \"\"\"\n",
        "response = model.generate_content([user_prompt, sample_pdf])"
      ],
      "metadata": {
        "id": "Um7SDWHaWWwD"
      },
      "id": "Um7SDWHaWWwD",
      "execution_count": 6,
      "outputs": []
    },
    {
      "cell_type": "code",
      "source": [
        "Markdown(\">\" + response.text)"
      ],
      "metadata": {
        "id": "EBJ-tphKWgrf",
        "outputId": "d78fc1a9-64e2-4210-b9aa-a2efa8a192b6",
        "colab": {
          "base_uri": "https://localhost:8080/",
          "height": 1000
        }
      },
      "id": "EBJ-tphKWgrf",
      "execution_count": 7,
      "outputs": [
        {
          "output_type": "execute_result",
          "data": {
            "text/plain": [
              "<IPython.core.display.Markdown object>"
            ],
            "text/markdown": ">**Page 1**\n\nDeloitte.\n\nSayed Al Khabbazin Saudi Arabia Limited Company\n(Limited Liability Company)\n\nFinancial Statements and Auditors’ Report\nFor the year ended 31 December 2006\n\nAudit • Tax • Management Consulting • Financial Advisory\n\n\n**Page 2**\n\nDeloitte.\n\nSayed Al Khabbazin Saudi Arabia Limited Company\n(Limited Liability Company)\n\nFinancial Statements and Auditors’ Report\nFor the year ended 31 December 2006\n\nTable of Contents\nPage\n\nAuditors' Report 1\nStatement of Financial Position 2\nIncome Statement 3\nStatement of Partners' Equity 4\nStatement of Cash Flows 5\nNotes to the Financial Statements 6-16\n\n\n**Page 3**\n\nDeloitte.\n\nAuditors' Report\n\nDeloitte & Touche\nBakr Abulkhair & Co.\nCertified Public Accountants - License No. 96\nP.O. Box 182 - Dammam 31411\nKingdom of Saudi Arabia\nTel 966 (3) 8872937\nFax 966 (3) 8873931\nwww.deloitte.com\nMain Office - Riyadh\n\nTo the Partners\nSayed Al Khabbazin Saudi Arabia Limited Company\nDammam, Kingdom of Saudi Arabia\n\nWe have audited the statement of financial position of Sayed Al Khabbazin Saudi Arabia Limited Company (a Saudi limited liability company) as at 31 December 2006, and the related statements of income, partners’ equity, and cash flows for the year then ended, and the notes 1 to 20 forming part of these financial statements, prepared by the company in accordance with Article 175 of the Companies Law and submitted to us together with all the information and explanations we required. These financial statements are the responsibility of the company’s management. Our responsibility is to express an opinion on these financial statements based on our audit.\n\nWe conducted our audit in accordance with generally accepted auditing standards. Those standards require that we plan and perform the audit to obtain reasonable assurance about whether the financial statements are free of material misstatement. An audit includes examining, on a test basis, evidence supporting the amounts and disclosures in the financial statements. An audit also includes assessing the accounting principles used and significant estimates made by management, as well as evaluating the overall financial statement presentation. We believe that our audit provides a reasonable basis for our opinion.\n\nIn our opinion, the financial statements present fairly, in all material respects, the financial position of the company as at 31 December 2006 and the results of its operations and its cash flows for the year then ended in conformity with generally accepted accounting standards appropriate in the circumstances of the company, and comply with the requirements of the Companies Law and the company's Articles of Association as regards the preparation and presentation of financial statements.\n\n[Signature and stamp]\nWalid Mohamed Sobhi\nCertified Public Accountant - License No. 378\n20 Muharram 1428\n8 February 2007\n\nAudit • Tax • Management Consulting • Financial Advisory\n\n\n**Page 4**\n\nSayed Al Khabbazin Saudi Arabia Limited Company\n(Limited Liability Company)\nStatement of Financial Position\nAs at 31 December 2006\n\n**(Saudi Riyals)**\n\n| Assets | Note | 2006 | 2005 |\n|---|---|---|---|\n| Current Assets | | | |\n| Cash and cash equivalents | 3 | 1,897,560 | 554,197 |\n| Accounts receivable | 4 | 22,243,375 | 17,509,959 |\n| Inventories | 5 | 5,932,187 | 6,480,151 |\n| Prepaid expenses |  | 775,520 | 498,496 |\n| *Total current assets* |  | *30,848,642* | *25,042,803* |\n| Non-current Assets | | | |\n| Property and equipment | 6 | 25,043,438 | 30,881,666 |\n| Intangible assets | 7 | 7,000,000 | 8,000,000 |\n| *Total non-current assets* | | *32,043,438* | *38,881,666* |\n| **Total Assets** | | **62,892,080** | **63,924,469** |\n\n| Liabilities and Partners' Equity | Note | 2006 | 2005 |\n|---|---|---|---|\n| Current Liabilities | | | |\n| Bank overdrafts | 8 | 1,644,607 | 4,728,380 |\n| Accounts payable and other liabilities | 9 | 11,134,061 | 13,371,568 |\n| Current portion of long-term loan | 10 | 4,350,000 | 5,866,662 |\n| *Total current liabilities* |  | *17,128,668* | *23,966,610* |\n| Non-current Liabilities | | | |\n| Long-term loans | 10 | 1,136,211 | 1,250,000 |\n| End of service indemnity | 11 | 3,613,264 | 3,137,759 |\n| *Total non-current liabilities* | | *4,749,475* | *4,387,759* |\n| Partners' Equity | | | |\n| Share capital | 12 | 14,280,000 | 14,280,000 |\n| Statutory reserve | 14 | 6,678,179 | 4,569,419 |\n| Retained earnings |  | 20,055,758 | 16,720,681 |\n| *Total partners' equity* | | *41,013,937* | *35,570,100* |\n| **Total Liabilities and Partners' Equity** | | **62,892,080** | **63,924,469** |\n\nThe accompanying notes form an integral part of these financial statements.\n\n\n**Page 5**\n\nSayed Al Khabbazin Saudi Arabia Limited Company\n(Limited Liability Company)\nIncome Statement\nFor the year ended 31 December 2006\n\n**(Saudi Riyals)**\n\n|  | Note | 2006 | 2005 |\n|---|---|---|---|\n| Sales | 13 | 134,579,236 | 121,651,258 |\n| Cost of sales |  | 68,617,596 | 61,497,124 |\n| *Gross profit* |  | *65,961,640* | *60,154,134* |\n| Selling and distribution expenses | 15 | 21,723,754 | 19,336,400 |\n| General and administrative expenses | 16 | 22,520,354 | 22,362,822 |\n| *Profit from operations* |  | *21,717,532* | *18,454,912* |\n| Finance costs |  | (891,020) | (1,440,549) |\n| Other income, net |  | 261,092 | 327,266 |\n| **Net profit** |  | **21,087,604** | **17,341,629** |\n\nThe accompanying notes form an integral part of these financial statements.\n\n\n**Page 6**\n\nSayed Al Khabbazin Saudi Arabia Limited Company\n(Limited Liability Company)\nStatement of Partners' Equity\nFor the year ended 31 December 2006\n\n**(Saudi Riyals)**\n\n|  | Note | Master Baker Marketing Limited | Mohammed Abdullah Al Muntaakh | Total |\n|---|---|---|---|---|\n| Share Capital | | | | |\n| 31 December 2006 and 2005 | | 10,710,000 | 3,570,000 | 14,280,000 |\n| Statutory Reserve | | | | |\n| 1 January 2005 |  | 2,008,313 | 826,943 | 2,835,256 |\n| Transferred from retained earnings | 14 | 1,300,622 | 433,541 | 1,734,163 |\n| 31 December 2005 | | 3,308,935 | 1,260,484 | 4,569,419 |\n| Transferred from retained earnings | 14 | 1,581,570 | 527,190 | 2,108,760 |\n| 31 December 2006 |  | 4,890,505 | 1,787,674 | 6,678,179 |\n| Retained Earnings | | | | |\n| 1 January 2005 | | 3,917,441 | 2,400,408 | 6,317,849 |\n| Net profit for the year 2005 |  | 15,815,703 | 5,271,901 | 21,087,604 |\n| Transferred to statutory reserve | 14 | (1,581,570) | (527,190) | (2,108,760) |\n| Zakat |  |  | (112,465) | (112,465) |\n| Dividends distributed | | (3,819,127) | (1,273,042) | (5,092,169) |\n| 31 December 2005 | | 14,427,195 | 5,628,563 | 20,055,758 |\n| Net profit for the year 2006 |  | 13,006,222 | 4,335,407 | 17,341,629 |\n| Transferred to statutory reserve | 14 | (1,300,622) | (433,541) | (1,734,163) |\n| Zakat | |  | (162,631) | (162,631) |\n| Dividends distributed | | (11,610,852) | (3,870,281) | (15,481,136) |\n| 31 December 2006 |  | 25,822,849 | 9,747,251 | 35,570,100 |\n| Total Partners' Equity |  | | | |\n| 31 December 2006 | | 30,027,700 | 10,986,237 | 41,013,937 |\n| 31 December 2005 |  | 18,736,130 | 8,695,807 | 30,027,700 |\n\n\nThe accompanying notes form an integral part of these financial statements.\n\n\n[Translation of remaining pages to follow in subsequent responses due to character limits.]\n"
          },
          "metadata": {},
          "execution_count": 7
        }
      ]
    },
    {
      "cell_type": "markdown",
      "source": [
        "## PDF to Image"
      ],
      "metadata": {
        "id": "kmp9dyDjfwZF"
      },
      "id": "kmp9dyDjfwZF"
    },
    {
      "cell_type": "code",
      "source": [
        "def convert_pdf(file_path, output_path):\n",
        "    # save temp image files in temp dir, delete them after we are finished\n",
        "    with tempfile.TemporaryDirectory() as temp_dir:\n",
        "\n",
        "        # convert pdf to multiple image\n",
        "        images = convert_from_path(file_path, output_folder=temp_dir)\n",
        "\n",
        "        # save images to temporary directory\n",
        "        temp_images = []\n",
        "        for i in range(len(images)):\n",
        "            image_path = f'{temp_dir}/{i}.jpg'\n",
        "            images[i].save(image_path, 'JPEG')\n",
        "            temp_images.append(image_path)\n",
        "\n",
        "        # read images into pillow.Image\n",
        "        imgs = list(map(Image.open, temp_images))\n",
        "\n",
        "    # find maximum width of images\n",
        "    max_img_width = max(i.width for i in imgs)\n",
        "\n",
        "    # find total height of all images\n",
        "    total_height = 0\n",
        "    for i, img in enumerate(imgs):\n",
        "        total_height += imgs[i].height\n",
        "\n",
        "    # create new image object with width and total height\n",
        "    merged_image = Image.new(imgs[0].mode, (max_img_width, total_height))\n",
        "\n",
        "    # paste images together one by one\n",
        "    y = 0\n",
        "    for img in imgs:\n",
        "        merged_image.paste(img, (0, y))\n",
        "        y += img.height\n",
        "\n",
        "    # save merged image\n",
        "    merged_image.save(output_path)\n",
        "\n",
        "    return output_path"
      ],
      "metadata": {
        "id": "54Ab9V7tfxgY"
      },
      "id": "54Ab9V7tfxgY",
      "execution_count": null,
      "outputs": []
    },
    {
      "cell_type": "code",
      "source": [
        "!mkdir img_output"
      ],
      "metadata": {
        "id": "7dSp8yTyf50X"
      },
      "id": "7dSp8yTyf50X",
      "execution_count": null,
      "outputs": []
    },
    {
      "cell_type": "code",
      "source": [
        "output_path = convert_pdf(\"dataset/Input- arabic.pdf\", \"img_output/input_arabic.jpg\")"
      ],
      "metadata": {
        "id": "uMXhAUsUf9_G"
      },
      "id": "uMXhAUsUf9_G",
      "execution_count": null,
      "outputs": []
    },
    {
      "cell_type": "markdown",
      "source": [
        "**Image bytes**"
      ],
      "metadata": {
        "id": "oS_LtSKKhjq1"
      },
      "id": "oS_LtSKKhjq1"
    },
    {
      "cell_type": "code",
      "source": [
        "from PIL import Image\n",
        "\n",
        "# Specify the file path\n",
        "file_path = 'img_output/input_arabic.jpg'\n",
        "image_url = Image.open(file_path)"
      ],
      "metadata": {
        "id": "xc86FzK7lZNp"
      },
      "id": "xc86FzK7lZNp",
      "execution_count": null,
      "outputs": []
    },
    {
      "cell_type": "code",
      "source": [
        "display(image_url)"
      ],
      "metadata": {
        "id": "TCSQFPsztOc8"
      },
      "id": "TCSQFPsztOc8",
      "execution_count": null,
      "outputs": []
    },
    {
      "cell_type": "code",
      "source": [
        "# Convert the image to bytes\n",
        "import io\n",
        "buffered = io.BytesIO()\n",
        "image_url.save(buffered, format=\"JPEG\")\n",
        "img_bytes = buffered.getvalue()"
      ],
      "metadata": {
        "id": "YM6ojGcTuZ-8"
      },
      "id": "YM6ojGcTuZ-8",
      "execution_count": null,
      "outputs": []
    },
    {
      "cell_type": "markdown",
      "source": [
        "**Translatation**"
      ],
      "metadata": {
        "id": "WpXUOtfVxAzm"
      },
      "id": "WpXUOtfVxAzm"
    },
    {
      "cell_type": "code",
      "source": [
        "# Choose a Gemini model\n",
        "model = genai.GenerativeModel(model_name=\"gemini-1.5-pro\")\n",
        "\n",
        "# Create a prompt\n",
        "prompt = \"\"\"You are an Arabic to English translator expert that translates Arabic to English.\n",
        "            Traslate Arabic text into English based on the provided image.\n",
        "            Do NOT MAKE ANY ASSUMPTION.\n",
        "          \"\"\"\n",
        "response = model.generate_content(\n",
        "    [\n",
        "        {\n",
        "            \"mime_type\": \"image/jpeg\",\n",
        "            \"data\": base64.b64encode(img_bytes).decode(\"utf-8\"),\n",
        "        },\n",
        "        prompt,\n",
        "    ]\n",
        ")"
      ],
      "metadata": {
        "id": "4TewzTHRtqj3"
      },
      "id": "4TewzTHRtqj3",
      "execution_count": null,
      "outputs": []
    },
    {
      "cell_type": "code",
      "source": [
        "Markdown(\">\" + response.text)"
      ],
      "metadata": {
        "id": "n1ZXJmw0uDSM",
        "outputId": "c6e690f3-8ea0-4766-9995-71b5a79e9b8e",
        "colab": {
          "base_uri": "https://localhost:8080/",
          "height": 621
        }
      },
      "id": "n1ZXJmw0uDSM",
      "execution_count": null,
      "outputs": [
        {
          "output_type": "execute_result",
          "data": {
            "text/plain": [
              "<IPython.core.display.Markdown object>"
            ],
            "text/markdown": ">**Cover Page:**\n\nDeloitte.\n\n*(Inside the box)*\nReport on Agreed-Upon Procedures\nRegarding the Financial Statements of\nThe Social Development Bank\nFor the Year Ended December 31, 2021\n\n*(Bottom of the page)*\nwww.deloitte.com/middleeast\n\n**Page 2:**\n\nDeloitte.\n\n*(Top Right)*\nSocial Development Bank\nAgreed-Upon Procedures\nFinancial Statements as of 31/12/2021\n\n*(Below Deloitte logo)*\nReport on Agreed-Upon Procedures\n\nWe have performed the agreed-upon procedures listed in the attached annex regarding the accompanying financial statements of the Social Development Bank (the \"Bank\") for the year ended December 31, 2021.  The Bank's management is responsible for the financial statements. This agreed-upon procedures engagement was conducted in accordance with International Standard on Related Services 4400 (Revised), Engagements to Perform Agreed-Upon Procedures Regarding Financial Information.  We make no representation regarding the sufficiency of the procedures described in the annex either for the purpose for which this report has been requested or for any other purpose.\n\n*(Signature and Stamp)*\nJeddah, Kingdom of Saudi Arabia\nMarch 8, 2022\n\n*(Bottom Right)*\nScanned by CamScanner\n\n*(The following pages contain financial tables and Arabic text describing the procedures performed and the findings. Due to the image quality, precise translation of the numerical data and the lengthy Arabic descriptions is not reliably possible.  If sharper images of these sections are provided, a more accurate translation can be furnished.)*\n\n\nThe subsequent pages show tables with numerical data, and descriptive text in Arabic.  Key terms recurring include references to specific line items in the financial statements,  \"current year,\" \"previous year,\" and phrases like \"agreed-upon procedures,\" and \"bank management.\"  \"Scanned by CamScanner\" appears at the bottom right of each page.\n\n*(Final Page with partial black triangle)*\n\nThis page appears to contain a continuation of the Arabic text and potentially more financial data, but it is difficult to decipher due to the image quality and the partial obscuration.\n\n\nTo provide a more complete and accurate translation, please provide higher-resolution images of each page. This will allow for proper reading of the financial figures and the accompanying Arabic descriptions.\n"
          },
          "metadata": {},
          "execution_count": 15
        }
      ]
    },
    {
      "cell_type": "markdown",
      "source": [
        "```log\n",
        "This document appears to be a financial report or audit statement prepared by Deloitte, likely for a client in a region where Arabic is used. Because the image is blurry and fragmented, providing a completely accurate translation is impossible. However, I can give you a general idea of what some sections likely contain:\n",
        "\n",
        "Cover Page: This shows the Deloitte logo and likely includes information like the report title, client name (redacted in this case), and date. The Arabic phrase likely translates to something similar to \"Independent Auditor's Report.\"\n",
        "\n",
        "Subsequent Pages: These pages contain financial data presented in tables. Typical elements that can be inferred, though the numbers are unreadable:\n",
        "\n",
        "Amounts in Arabic numerals: These are financial figures, likely in the local currency.\n",
        "Column Headings: Likely represent periods (e.g., \"Current Year,\" \"Prior Year,\" possibly quarters or months). Other columns might indicate \"Description\" or \"Account Name.\"\n",
        "Row Labels (Arabic text): These would be the names of accounts (e.g., \"Cash and Cash Equivalents,\" \"Accounts Receivable,\" \"Revenue,\" \"Expenses,\" \"Net Income,\" etc.). Due to blurriness, providing specific translations is impossible.\n",
        "Footnotes (Arabic text at page bottoms): These provide further explanations or details regarding the figures presented in the tables. They often explain accounting policies or significant events.\n",
        "\"Scanned by CamScanner\": Indicates the document was digitally scanned.\n",
        "Narrative Sections (Arabic Text): These sections, also too blurry to read, would contain explanations and analysis of the financial data. They'd likely cover topics like:\n",
        "\n",
        "Basis of Presentation: Explains the accounting standards followed (e.g., IFRS).\n",
        "Key Performance Indicators: Discussion of important financial metrics.\n",
        "Risk Factors: Potential issues that could affect the company's financial performance.\n",
        "Auditor's Opinion: Deloitte's formal statement on the fairness and accuracy of the financial statements.\n",
        "To provide a more useful translation, you would need to provide a clearer image of the document. If you can provide a sharper image of specific sections you are most interested in, I can attempt a more precise translation.\n",
        "```"
      ],
      "metadata": {
        "id": "8FtwYqXPwE6G"
      },
      "id": "8FtwYqXPwE6G"
    },
    {
      "cell_type": "code",
      "execution_count": null,
      "id": "7f991a1f-6ce9-4463-9941-b35014df94f6",
      "metadata": {
        "id": "7f991a1f-6ce9-4463-9941-b35014df94f6"
      },
      "outputs": [],
      "source": [
        "model = genai.GenerativeModel(model_name=\"gemini-1.5-flash\")"
      ]
    },
    {
      "cell_type": "code",
      "source": [
        "# Create a prompt\n",
        "prompt = \"\"\"You are an Arabic to English translator expert that translates Arabic to English.\n",
        "            Traslate Arabic text into English based on the provided image.\n",
        "            Do NOT MAKE ANY ASSUMPTION.\n",
        "          \"\"\"\n",
        "response = model.generate_content(\n",
        "    [\n",
        "        {\n",
        "            \"mime_type\": \"image/jpeg\",\n",
        "            \"data\": base64.b64encode(img_bytes).decode(\"utf-8\"),\n",
        "        },\n",
        "        prompt,\n",
        "    ]\n",
        ")"
      ],
      "metadata": {
        "id": "qK4RzlKawORF"
      },
      "id": "qK4RzlKawORF",
      "execution_count": null,
      "outputs": []
    },
    {
      "cell_type": "code",
      "source": [
        "Markdown(\">\" + response.text)"
      ],
      "metadata": {
        "id": "ug_Jo5pZl-Ig",
        "colab": {
          "base_uri": "https://localhost:8080/",
          "height": 120
        },
        "outputId": "04bad276-ac90-4a18-9f13-afd08d146500"
      },
      "id": "ug_Jo5pZl-Ig",
      "execution_count": null,
      "outputs": [
        {
          "output_type": "execute_result",
          "data": {
            "text/plain": [
              "<IPython.core.display.Markdown object>"
            ],
            "text/markdown": ">Certainly! I can translate the Arabic text in the image for you.  However, due to the image quality and the handwriting style,  some parts may be difficult to decipher with complete accuracy.  I'll do my best to provide a faithful translation, noting any ambiguities.\n\nPlease provide the image.  I need the image to be able to complete the translation.\n"
          },
          "metadata": {},
          "execution_count": 18
        }
      ]
    },
    {
      "cell_type": "markdown",
      "source": [
        "## OCR"
      ],
      "metadata": {
        "id": "qBiols0kXqKI"
      },
      "id": "qBiols0kXqKI"
    },
    {
      "cell_type": "code",
      "source": [
        "!pip install paddleocr\n",
        "!pip install paddlepaddle"
      ],
      "metadata": {
        "id": "XDuUDK_WXl_D"
      },
      "id": "XDuUDK_WXl_D",
      "execution_count": null,
      "outputs": []
    },
    {
      "cell_type": "code",
      "source": [
        "!wget http://archive.ubuntu.com/ubuntu/pool/main/o/openssl/libssl1.1_1.1.0g-2ubuntu4_amd64.deb\n",
        "!sudo dpkg -i libssl1.1_1.1.0g-2ubuntu4_amd64.deb"
      ],
      "metadata": {
        "id": "YobFuPt9XsIK"
      },
      "id": "YobFuPt9XsIK",
      "execution_count": null,
      "outputs": []
    },
    {
      "cell_type": "code",
      "source": [
        "!git clone https://github.com/PaddlePaddle/PaddleOCR"
      ],
      "metadata": {
        "id": "34C77vGrX-0i"
      },
      "id": "34C77vGrX-0i",
      "execution_count": null,
      "outputs": []
    },
    {
      "cell_type": "code",
      "source": [
        "# Importing required functions for inference and visualization.\n",
        "from paddleocr import PaddleOCR,draw_ocr\n",
        "import os\n",
        "import cv2\n",
        "import matplotlib.pyplot as plt\n",
        "%matplotlib inline"
      ],
      "metadata": {
        "id": "hTtZ75bZX_Px"
      },
      "id": "hTtZ75bZX_Px",
      "execution_count": null,
      "outputs": []
    },
    {
      "cell_type": "code",
      "source": [
        "from pdf2image import convert_from_path\n",
        "pages = convert_from_path('dataset/Input- arabic.pdf', 500)"
      ],
      "metadata": {
        "id": "lGYxpU7PfhyB"
      },
      "id": "lGYxpU7PfhyB",
      "execution_count": null,
      "outputs": []
    },
    {
      "cell_type": "code",
      "source": [
        "for count, page in enumerate(pages):\n",
        "    page.save(f'out{count}.jpg', 'JPEG')"
      ],
      "metadata": {
        "id": "k8WgBoMGfz7e"
      },
      "id": "k8WgBoMGfz7e",
      "execution_count": null,
      "outputs": []
    },
    {
      "cell_type": "code",
      "source": [
        "ocr = PaddleOCR(lang=\"en\")"
      ],
      "metadata": {
        "id": "Bn4qcUmiYRv3"
      },
      "id": "Bn4qcUmiYRv3",
      "execution_count": null,
      "outputs": []
    },
    {
      "cell_type": "code",
      "source": [
        "font='/content/PaddleOCR/StyleText/fonts/simfang.ttf'\n",
        "def save_ocr(img_path, out_path, result, font):\n",
        "  save_path = os.path.join(out_path, img_path.split('/')[-1] + 'output')\n",
        "\n",
        "  image = cv2.imread(img_path)\n",
        "\n",
        "  boxes = [line[0] for line in result]\n",
        "  txts = [line[1][0] for line in result]\n",
        "  scores = [line[1][1] for line in result]\n",
        "\n",
        "  im_show = draw_ocr(image, boxes, txts, scores, font_path=font)\n",
        "\n",
        "  cv2.imwrite(save_path, im_show)\n",
        "\n",
        "  img = cv2.cvtColor(im_show, cv2.COLOR_BGR2RGB)\n",
        "  plt.imshow(img)"
      ],
      "metadata": {
        "id": "GhTRm1aIZeeD"
      },
      "id": "GhTRm1aIZeeD",
      "execution_count": null,
      "outputs": []
    },
    {
      "cell_type": "code",
      "source": [
        "out_path = \"img_output\"\n",
        "file_path = 'out0.jpg'6\n",
        "result = ocr.ocr(file_path)"
      ],
      "metadata": {
        "id": "hlgtRHMzcWqu"
      },
      "id": "hlgtRHMzcWqu",
      "execution_count": null,
      "outputs": []
    },
    {
      "cell_type": "code",
      "source": [
        "out_path = \"img_output\"\n",
        "save_ocr(file_path, out_path, result, font)"
      ],
      "metadata": {
        "id": "aodh9Wf4cmG3",
        "outputId": "87a3025a-f0f9-43a8-abc4-36971bcde68d",
        "colab": {
          "base_uri": "https://localhost:8080/",
          "height": 321
        }
      },
      "id": "aodh9Wf4cmG3",
      "execution_count": null,
      "outputs": [
        {
          "output_type": "error",
          "ename": "TypeError",
          "evalue": "'<' not supported between instances of 'tuple' and 'float'",
          "traceback": [
            "\u001b[0;31m---------------------------------------------------------------------------\u001b[0m",
            "\u001b[0;31mTypeError\u001b[0m                                 Traceback (most recent call last)",
            "\u001b[0;32m<ipython-input-13-cf80ba079e96>\u001b[0m in \u001b[0;36m<cell line: 2>\u001b[0;34m()\u001b[0m\n\u001b[1;32m      1\u001b[0m \u001b[0mout_path\u001b[0m \u001b[0;34m=\u001b[0m \u001b[0;34m\"img_output\"\u001b[0m\u001b[0;34m\u001b[0m\u001b[0;34m\u001b[0m\u001b[0m\n\u001b[0;32m----> 2\u001b[0;31m \u001b[0msave_ocr\u001b[0m\u001b[0;34m(\u001b[0m\u001b[0mfile_path\u001b[0m\u001b[0;34m,\u001b[0m \u001b[0mout_path\u001b[0m\u001b[0;34m,\u001b[0m \u001b[0mresult\u001b[0m\u001b[0;34m,\u001b[0m \u001b[0mfont\u001b[0m\u001b[0;34m)\u001b[0m\u001b[0;34m\u001b[0m\u001b[0;34m\u001b[0m\u001b[0m\n\u001b[0m",
            "\u001b[0;32m<ipython-input-6-8bbb0d5288ab>\u001b[0m in \u001b[0;36msave_ocr\u001b[0;34m(img_path, out_path, result, font)\u001b[0m\n\u001b[1;32m      9\u001b[0m   \u001b[0mscores\u001b[0m \u001b[0;34m=\u001b[0m \u001b[0;34m[\u001b[0m\u001b[0mline\u001b[0m\u001b[0;34m[\u001b[0m\u001b[0;36m1\u001b[0m\u001b[0;34m]\u001b[0m\u001b[0;34m[\u001b[0m\u001b[0;36m1\u001b[0m\u001b[0;34m]\u001b[0m \u001b[0;32mfor\u001b[0m \u001b[0mline\u001b[0m \u001b[0;32min\u001b[0m \u001b[0mresult\u001b[0m\u001b[0;34m]\u001b[0m\u001b[0;34m\u001b[0m\u001b[0;34m\u001b[0m\u001b[0m\n\u001b[1;32m     10\u001b[0m \u001b[0;34m\u001b[0m\u001b[0m\n\u001b[0;32m---> 11\u001b[0;31m   \u001b[0mim_show\u001b[0m \u001b[0;34m=\u001b[0m \u001b[0mdraw_ocr\u001b[0m\u001b[0;34m(\u001b[0m\u001b[0mimage\u001b[0m\u001b[0;34m,\u001b[0m \u001b[0mboxes\u001b[0m\u001b[0;34m,\u001b[0m \u001b[0mtxts\u001b[0m\u001b[0;34m,\u001b[0m \u001b[0mscores\u001b[0m\u001b[0;34m,\u001b[0m \u001b[0mfont_path\u001b[0m\u001b[0;34m=\u001b[0m\u001b[0mfont\u001b[0m\u001b[0;34m)\u001b[0m\u001b[0;34m\u001b[0m\u001b[0;34m\u001b[0m\u001b[0m\n\u001b[0m\u001b[1;32m     12\u001b[0m \u001b[0;34m\u001b[0m\u001b[0m\n\u001b[1;32m     13\u001b[0m   \u001b[0mcv2\u001b[0m\u001b[0;34m.\u001b[0m\u001b[0mimwrite\u001b[0m\u001b[0;34m(\u001b[0m\u001b[0msave_path\u001b[0m\u001b[0;34m,\u001b[0m \u001b[0mim_show\u001b[0m\u001b[0;34m)\u001b[0m\u001b[0;34m\u001b[0m\u001b[0;34m\u001b[0m\u001b[0m\n",
            "\u001b[0;32m/usr/local/lib/python3.10/dist-packages/paddleocr/tools/infer/utility.py\u001b[0m in \u001b[0;36mdraw_ocr\u001b[0;34m(image, boxes, txts, scores, drop_score, font_path)\u001b[0m\n\u001b[1;32m    413\u001b[0m     \u001b[0mbox_num\u001b[0m \u001b[0;34m=\u001b[0m \u001b[0mlen\u001b[0m\u001b[0;34m(\u001b[0m\u001b[0mboxes\u001b[0m\u001b[0;34m)\u001b[0m\u001b[0;34m\u001b[0m\u001b[0;34m\u001b[0m\u001b[0m\n\u001b[1;32m    414\u001b[0m     \u001b[0;32mfor\u001b[0m \u001b[0mi\u001b[0m \u001b[0;32min\u001b[0m \u001b[0mrange\u001b[0m\u001b[0;34m(\u001b[0m\u001b[0mbox_num\u001b[0m\u001b[0;34m)\u001b[0m\u001b[0;34m:\u001b[0m\u001b[0;34m\u001b[0m\u001b[0;34m\u001b[0m\u001b[0m\n\u001b[0;32m--> 415\u001b[0;31m         \u001b[0;32mif\u001b[0m \u001b[0mscores\u001b[0m \u001b[0;32mis\u001b[0m \u001b[0;32mnot\u001b[0m \u001b[0;32mNone\u001b[0m \u001b[0;32mand\u001b[0m \u001b[0;34m(\u001b[0m\u001b[0mscores\u001b[0m\u001b[0;34m[\u001b[0m\u001b[0mi\u001b[0m\u001b[0;34m]\u001b[0m \u001b[0;34m<\u001b[0m \u001b[0mdrop_score\u001b[0m \u001b[0;32mor\u001b[0m \u001b[0mmath\u001b[0m\u001b[0;34m.\u001b[0m\u001b[0misnan\u001b[0m\u001b[0;34m(\u001b[0m\u001b[0mscores\u001b[0m\u001b[0;34m[\u001b[0m\u001b[0mi\u001b[0m\u001b[0;34m]\u001b[0m\u001b[0;34m)\u001b[0m\u001b[0;34m)\u001b[0m\u001b[0;34m:\u001b[0m\u001b[0;34m\u001b[0m\u001b[0;34m\u001b[0m\u001b[0m\n\u001b[0m\u001b[1;32m    416\u001b[0m             \u001b[0;32mcontinue\u001b[0m\u001b[0;34m\u001b[0m\u001b[0;34m\u001b[0m\u001b[0m\n\u001b[1;32m    417\u001b[0m         \u001b[0mbox\u001b[0m \u001b[0;34m=\u001b[0m \u001b[0mnp\u001b[0m\u001b[0;34m.\u001b[0m\u001b[0mreshape\u001b[0m\u001b[0;34m(\u001b[0m\u001b[0mnp\u001b[0m\u001b[0;34m.\u001b[0m\u001b[0marray\u001b[0m\u001b[0;34m(\u001b[0m\u001b[0mboxes\u001b[0m\u001b[0;34m[\u001b[0m\u001b[0mi\u001b[0m\u001b[0;34m]\u001b[0m\u001b[0;34m)\u001b[0m\u001b[0;34m,\u001b[0m \u001b[0;34m[\u001b[0m\u001b[0;34m-\u001b[0m\u001b[0;36m1\u001b[0m\u001b[0;34m,\u001b[0m \u001b[0;36m1\u001b[0m\u001b[0;34m,\u001b[0m \u001b[0;36m2\u001b[0m\u001b[0;34m]\u001b[0m\u001b[0;34m)\u001b[0m\u001b[0;34m.\u001b[0m\u001b[0mastype\u001b[0m\u001b[0;34m(\u001b[0m\u001b[0mnp\u001b[0m\u001b[0;34m.\u001b[0m\u001b[0mint64\u001b[0m\u001b[0;34m)\u001b[0m\u001b[0;34m\u001b[0m\u001b[0;34m\u001b[0m\u001b[0m\n",
            "\u001b[0;31mTypeError\u001b[0m: '<' not supported between instances of 'tuple' and 'float'"
          ]
        }
      ]
    }
  ],
  "metadata": {
    "colab": {
      "provenance": [],
      "include_colab_link": true
    },
    "kernelspec": {
      "display_name": "Python 3 (ipykernel)",
      "language": "python",
      "name": "python3"
    },
    "language_info": {
      "codemirror_mode": {
        "name": "ipython",
        "version": 3
      },
      "file_extension": ".py",
      "mimetype": "text/x-python",
      "name": "python",
      "nbconvert_exporter": "python",
      "pygments_lexer": "ipython3",
      "version": "3.10.14"
    }
  },
  "nbformat": 4,
  "nbformat_minor": 5
}