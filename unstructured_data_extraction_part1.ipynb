{
  "nbformat": 4,
  "nbformat_minor": 0,
  "metadata": {
    "colab": {
      "provenance": [],
      "toc_visible": true,
      "include_colab_link": true
    },
    "kernelspec": {
      "name": "python3",
      "display_name": "Python 3"
    },
    "language_info": {
      "name": "python"
    }
  },
  "cells": [
    {
      "cell_type": "markdown",
      "metadata": {
        "id": "view-in-github",
        "colab_type": "text"
      },
      "source": [
        "<a href=\"https://colab.research.google.com/github/rahiakela/general-utility-notebooks/blob/main/unstructured_data_extraction_part1.ipynb\" target=\"_parent\"><img src=\"https://colab.research.google.com/assets/colab-badge.svg\" alt=\"Open In Colab\"/></a>"
      ]
    },
    {
      "cell_type": "markdown",
      "source": [
        "# Unstructured - PDF data extraction"
      ],
      "metadata": {
        "id": "bXfuGoJFxrFx"
      }
    },
    {
      "cell_type": "markdown",
      "source": [
        "## Setup"
      ],
      "metadata": {
        "id": "Sp026Z98x1Lk"
      }
    },
    {
      "cell_type": "code",
      "source": [
        "%%capture\n",
        "!apt-get install poppler-utils\n",
        "!apt-get install tesseract-ocr-all\n",
        "# unstructured 0.11.5\n",
        "# unstructured-inference 0.7.19\n",
        "!pip install unstructured[all-docs] unstructured-inference\n",
        "!pip install langchain-community\n",
        "!pip install --upgrade --quiet rapidocr-onnxruntime\n",
        "!pip install --upgrade --quiet extract_msg"
      ],
      "metadata": {
        "id": "xIfLbhqF70eP"
      },
      "execution_count": null,
      "outputs": []
    },
    {
      "cell_type": "markdown",
      "source": [
        "**Restart session in Colab!**"
      ],
      "metadata": {
        "id": "7xJKVdcZxvgV"
      }
    },
    {
      "cell_type": "markdown",
      "source": [
        "## Import libraries"
      ],
      "metadata": {
        "id": "BJIOzVJPKa3S"
      }
    },
    {
      "cell_type": "markdown",
      "source": [
        "**You must have restarted your session before to run the next cell.**"
      ],
      "metadata": {
        "id": "L1AqgrNnKe6D"
      }
    },
    {
      "cell_type": "code",
      "source": [
        "import pathlib\n",
        "from pathlib import Path"
      ],
      "metadata": {
        "id": "hguT7OF9l5mp"
      },
      "execution_count": null,
      "outputs": []
    },
    {
      "cell_type": "code",
      "source": [
        "# select the partition function\n",
        "from unstructured.partition.pdf import partition_pdf # version unstructured 0.11.5"
      ],
      "metadata": {
        "id": "fPbNYGbbeTMK"
      },
      "execution_count": null,
      "outputs": []
    },
    {
      "cell_type": "code",
      "source": [
        "# Define parameters for Unstructured's library\n",
        "\n",
        "## include_page_breaks\n",
        "# include page breaks (default is False)\n",
        "include_page_breaks = True\n",
        "\n",
        "## strategy\n",
        "# The strategy to use for partitioning the PDF. Valid strategies are \"hi_res\", \"ocr_only\", and \"fast\".\n",
        "# When using the \"hi_res\" strategy, the function uses a layout detection model to identify document elements.\n",
        "# hi_res\" is used for analyzing PDFs and extracting table structure (default is \"auto\")\n",
        "strategy = \"hi_res\"\n",
        "\n",
        "## infer_table_structure\n",
        "# Only applicable if `strategy=hi_res`.\n",
        "# If True, any Table elements that are extracted will also have a metadata field named \"text_as_html\" where the table's text content is rendered into an html string.\n",
        "# I.e., rows and cells are preserved.\n",
        "# Whether True or False, the \"text\" field is always present in any Table element and is the text content of the table (no structure).\n",
        "\n",
        "if strategy == \"hi_res\": infer_table_structure = True\n",
        "else: infer_table_structure = False\n",
        "\n",
        "## extract_element_types\n",
        "# Get images of tables\n",
        "if infer_table_structure == True: extract_element_types=['Table']\n",
        "else: extract_element_types=None\n",
        "\n",
        "## max_characters\n",
        "# The maximum number of characters to include in a partition (document element)\n",
        "# If None is passed, no maximum is applied.\n",
        "# Only applies to the \"ocr_only\" strategy (default is 1500)\n",
        "if strategy != \"ocr_only\": max_characters = None\n",
        "\n",
        "## languages\n",
        "# The languages to use for the Tesseract agent.\n",
        "# To use a language, you'll first need to install the appropriate Tesseract language pack.\n",
        "languages = [\"eng\"] # example if more than one \"eng+por\" (default is \"eng\")\n",
        "\n",
        "## model_name\n",
        "# @requires_dependencies(\"unstructured_inference\")\n",
        "# yolox: best model for table extraction. Other options are yolox_quantized, detectron2_onnx and chipper depending on file layout\n",
        "# source: https://unstructured-io.github.io/unstructured/best_practices/models.html\n",
        "hi_res_model_name = \"yolox\""
      ],
      "metadata": {
        "id": "J5sJ3QvilljH"
      },
      "execution_count": null,
      "outputs": []
    },
    {
      "cell_type": "markdown",
      "source": [
        "## PDF file"
      ],
      "metadata": {
        "id": "Z8_8oeTr-VFi"
      }
    },
    {
      "cell_type": "code",
      "source": [
        "!wget https://github.com/piegu/language-models/raw/master/docs/Quarterly.Financial.Report.Template.pdf"
      ],
      "metadata": {
        "id": "LRMCLWqrfi3T"
      },
      "execution_count": null,
      "outputs": []
    },
    {
      "cell_type": "code",
      "source": [
        "path = \"/content/\"\n",
        "# filename = path + \"Quarterly.Financial.Report.Template.pdf\"\n",
        "filename = path + \"Sample_30_Fax_1.pdf\""
      ],
      "metadata": {
        "id": "5QLNHN7K-Wyf"
      },
      "execution_count": null,
      "outputs": []
    },
    {
      "cell_type": "markdown",
      "source": [
        "## Get partition in json file"
      ],
      "metadata": {
        "id": "Wcjm6AtI-XxS"
      }
    },
    {
      "cell_type": "code",
      "source": [
        "# Returns a List[Element] present in the pages of the parsed pdf document\n",
        "elements = partition_pdf(\n",
        "        filename=filename,\n",
        "        include_page_breaks=include_page_breaks,\n",
        "        strategy=strategy,\n",
        "        infer_table_structure=infer_table_structure,\n",
        "        extract_element_types=extract_element_types,\n",
        "        max_characters=max_characters,\n",
        "        languages=languages,\n",
        "        hi_res_model_name=hi_res_model_name,\n",
        "        )\n",
        "\n",
        "# get output as json\n",
        "from unstructured.staging.base import elements_to_json\n",
        "elements_to_json(elements, filename=f\"{filename}.json\") # Takes a while for file to show up on the Google Colab"
      ],
      "metadata": {
        "id": "SGNzEv6VQi-v"
      },
      "execution_count": null,
      "outputs": []
    },
    {
      "cell_type": "markdown",
      "source": [
        "## Get content in html file"
      ],
      "metadata": {
        "id": "AWgO5zxl--IP"
      }
    },
    {
      "cell_type": "code",
      "source": [
        "def process_json_file(input_filename):\n",
        "    # Read the JSON file\n",
        "    with open(input_filename, 'r') as file:\n",
        "        data = json.load(file)\n",
        "\n",
        "    # Iterate over the JSON data and extract required table elements\n",
        "    extracted_elements = []\n",
        "    text_prev = \"\"\n",
        "    for i,entry in enumerate(data):\n",
        "        if entry[\"type\"] == \"Title\":\n",
        "            text = \"<h1>\" + entry[\"text\"] + \"</h1>\"\n",
        "        elif entry[\"type\"] == \"Table\":\n",
        "            text = entry[\"metadata\"][\"text_as_html\"]\n",
        "        else:\n",
        "            text = \"<p>\" + entry[\"text\"] + \"</p>\"\n",
        "\n",
        "        if text != text_prev: extracted_elements.append(text)\n",
        "        text_prev = text\n",
        "\n",
        "    # Write the extracted elements to the output file\n",
        "    html_start = \"\"\"\n",
        "    <!DOCTYPE html>\n",
        "    <html>\n",
        "    <head>\n",
        "    <title>Document Information</title>\n",
        "    <style>\n",
        "        table {\n",
        "            width: 100%;\n",
        "            border-collapse: collapse;\n",
        "        }\n",
        "        th, td {\n",
        "            border: 1px solid black;\n",
        "            padding: 8px;\n",
        "            text-align: left;\n",
        "        }\n",
        "        th {\n",
        "            background-color: #f2f2f2;\n",
        "        }\n",
        "    </style>\n",
        "    </head>\n",
        "    <body>\n",
        "    \"\"\"\n",
        "\n",
        "    html_end = \"\"\"\n",
        "    </body>\n",
        "    </html>\n",
        "    \"\"\"\n",
        "\n",
        "    output_file_html = path + Path(input_filename).name.replace(\".json\", \"\") + \"_\" + hi_res_model_name + \".html\"\n",
        "    with open(output_file_html, 'w') as output_file:\n",
        "        output_file.write(html_start + \"\\n\")\n",
        "        for element in extracted_elements:\n",
        "            output_file.write(element + \"\\n\")\n",
        "        output_file.write(html_end + \"\\n\")\n",
        "\n",
        "    return str(output_file_html)"
      ],
      "metadata": {
        "id": "-mJdBB03m3ms"
      },
      "execution_count": null,
      "outputs": []
    },
    {
      "cell_type": "code",
      "source": [
        "import json\n",
        "output_file_html = process_json_file(f\"{filename}.json\") # It can take a while for the .html file to show up in Colab\n",
        "\n",
        "from google.colab import files\n",
        "files.download(output_file_html)"
      ],
      "metadata": {
        "id": "wES2N4yRnZk6",
        "colab": {
          "base_uri": "https://localhost:8080/",
          "height": 17
        },
        "outputId": "b3f3ec3f-368d-4f2c-9d43-642b81bfecd2"
      },
      "execution_count": null,
      "outputs": [
        {
          "output_type": "display_data",
          "data": {
            "text/plain": [
              "<IPython.core.display.Javascript object>"
            ],
            "application/javascript": [
              "\n",
              "    async function download(id, filename, size) {\n",
              "      if (!google.colab.kernel.accessAllowed) {\n",
              "        return;\n",
              "      }\n",
              "      const div = document.createElement('div');\n",
              "      const label = document.createElement('label');\n",
              "      label.textContent = `Downloading \"${filename}\": `;\n",
              "      div.appendChild(label);\n",
              "      const progress = document.createElement('progress');\n",
              "      progress.max = size;\n",
              "      div.appendChild(progress);\n",
              "      document.body.appendChild(div);\n",
              "\n",
              "      const buffers = [];\n",
              "      let downloaded = 0;\n",
              "\n",
              "      const channel = await google.colab.kernel.comms.open(id);\n",
              "      // Send a message to notify the kernel that we're ready.\n",
              "      channel.send({})\n",
              "\n",
              "      for await (const message of channel.messages) {\n",
              "        // Send a message to notify the kernel that we're ready.\n",
              "        channel.send({})\n",
              "        if (message.buffers) {\n",
              "          for (const buffer of message.buffers) {\n",
              "            buffers.push(buffer);\n",
              "            downloaded += buffer.byteLength;\n",
              "            progress.value = downloaded;\n",
              "          }\n",
              "        }\n",
              "      }\n",
              "      const blob = new Blob(buffers, {type: 'application/binary'});\n",
              "      const a = document.createElement('a');\n",
              "      a.href = window.URL.createObjectURL(blob);\n",
              "      a.download = filename;\n",
              "      div.appendChild(a);\n",
              "      a.click();\n",
              "      div.remove();\n",
              "    }\n",
              "  "
            ]
          },
          "metadata": {}
        },
        {
          "output_type": "display_data",
          "data": {
            "text/plain": [
              "<IPython.core.display.Javascript object>"
            ],
            "application/javascript": [
              "download(\"download_995ec7b8-ea34-486f-a5bb-63f58e608000\", \"Sample_30_Fax_1.pdf_yolox.html\", 1391)"
            ]
          },
          "metadata": {}
        }
      ]
    },
    {
      "cell_type": "code",
      "source": [
        "from langchain_community.document_loaders import UnstructuredHTMLLoader\n",
        "\n",
        "file_path = \"Sample_30_Fax_1.pdf_yolox.html\"\n",
        "\n",
        "loader = UnstructuredHTMLLoader(file_path)\n",
        "data = loader.load()\n",
        "\n",
        "print(data)"
      ],
      "metadata": {
        "id": "5BTsdGbkpFwP",
        "outputId": "91aadd48-d003-49f4-e366-42586b1e5b57",
        "colab": {
          "base_uri": "https://localhost:8080/"
        }
      },
      "execution_count": null,
      "outputs": [
        {
          "output_type": "stream",
          "name": "stdout",
          "text": [
            "[Document(metadata={'source': 'Sample_30_Fax_1.pdf_yolox.html'}, page_content='Chennai Regional Physician\\n\\n127 Besant Nagar,\\n\\nChennai,\\n\\nTN, 44444\\n\\nChennai\\n\\n111-22-3333\\n\\nTo Whom it may concern,\\n\\nThis Letter is notify TN a new provider Mani Murugan MD, joining our group Chennai regional physicians.\\n\\nProvider individual NPI number is 9999999999\\n\\nThe effective date requested is 10/11/2020\\n\\nThe group name is Chennai regional physician TIN - 62-2222222\\n\\n1 Raja st, 127 Kamarajar st, PO BoX 1111 Adyar, CH 66666 Adyar, CH 55555 Adyar, CH-1111 P: 222-333-4444 P: 666-888-9999 P: 111-222-3333 F: 333-444-5555 F: 111-000-1010 F: 111-333-4444\\n\\nThank you,\\n\\nRaja Krishnan,\\n\\nCredential specialist,\\n\\nRajakcredential@secure.com\\n\\nOffice: (222) 111 2222, Fax: (111) 555 6666')]\n"
          ]
        }
      ]
    },
    {
      "cell_type": "code",
      "source": [
        "print(data[0].page_content)"
      ],
      "metadata": {
        "id": "IK9Yl9vwteDP",
        "outputId": "143c8bd7-07bd-4e3f-a8ce-5c3b38e20806",
        "colab": {
          "base_uri": "https://localhost:8080/"
        }
      },
      "execution_count": null,
      "outputs": [
        {
          "output_type": "stream",
          "name": "stdout",
          "text": [
            "Chennai Regional Physician\n",
            "\n",
            "127 Besant Nagar,\n",
            "\n",
            "Chennai,\n",
            "\n",
            "TN, 44444\n",
            "\n",
            "Chennai\n",
            "\n",
            "111-22-3333\n",
            "\n",
            "To Whom it may concern,\n",
            "\n",
            "This Letter is notify TN a new provider Mani Murugan MD, joining our group Chennai regional physicians.\n",
            "\n",
            "Provider individual NPI number is 9999999999\n",
            "\n",
            "The effective date requested is 10/11/2020\n",
            "\n",
            "The group name is Chennai regional physician TIN - 62-2222222\n",
            "\n",
            "1 Raja st, 127 Kamarajar st, PO BoX 1111 Adyar, CH 66666 Adyar, CH 55555 Adyar, CH-1111 P: 222-333-4444 P: 666-888-9999 P: 111-222-3333 F: 333-444-5555 F: 111-000-1010 F: 111-333-4444\n",
            "\n",
            "Thank you,\n",
            "\n",
            "Raja Krishnan,\n",
            "\n",
            "Credential specialist,\n",
            "\n",
            "Rajakcredential@secure.com\n",
            "\n",
            "Office: (222) 111 2222, Fax: (111) 555 6666\n"
          ]
        }
      ]
    },
    {
      "cell_type": "markdown",
      "source": [
        "## Get content in PDF file"
      ],
      "metadata": {
        "id": "y8D9WRR3uUrq"
      }
    },
    {
      "cell_type": "code",
      "source": [
        "from langchain_community.document_loaders import PyPDFLoader\n",
        "\n",
        "file_path = \"Sample_27.pdf\"\n",
        "loader = PyPDFLoader(file_path, extract_images=True)\n",
        "pages = loader.load_and_split()\n",
        "\n",
        "pages[0]"
      ],
      "metadata": {
        "id": "oWJsBaTtuWqP",
        "outputId": "5db08eb5-0056-4e47-d29f-4f3ee4a52625",
        "colab": {
          "base_uri": "https://localhost:8080/"
        }
      },
      "execution_count": null,
      "outputs": [
        {
          "output_type": "execute_result",
          "data": {
            "text/plain": [
              "Document(metadata={'source': 'Sample_27.pdf', 'page': 0}, page_content='Provider Enrollment Department\\n2000 Health Park Drive\\nMadura i, TN 38028\\nEmail: HCAPS. PayorRequest @secur e.com\\nOctober 08, 2020\\nAttn: Credentialing Department/Demographics Updates - TN\\nRE: Adding location to provider demographics\\nProvider Name: E Mary Mythili , MD\\nNPI: 1760445457\\nCAQH :11051777\\nSpecialty:Orthopaedic  Surgery\\nEffective 09/09/2020, E Mary Mythili , MD will be adding the following practice location(s ).\\nPlease update your files to ASSOCIATE/ADD this provider to the demographic information listed below .\\nPrimary Practice Address:\\nLegal Name: Little Mount Specialty Services, LLC\\nAddress:1160 E 3900 S Ste 5000\\nMadurai, TN, 841241275\\nPhone:801 -222-7479\\nFax:801 -222-7429\\nManager:Practice  Manager')"
            ]
          },
          "metadata": {},
          "execution_count": 51
        }
      ]
    },
    {
      "cell_type": "code",
      "source": [
        "print(pages[0].page_content)"
      ],
      "metadata": {
        "id": "fsQduxhTu9yH",
        "outputId": "3b76957d-f27f-4b41-af93-e56fbe9d7e5d",
        "colab": {
          "base_uri": "https://localhost:8080/"
        }
      },
      "execution_count": null,
      "outputs": [
        {
          "output_type": "stream",
          "name": "stdout",
          "text": [
            "Provider Enrollment Department\n",
            "2000 Health Park Drive\n",
            "Madura i, TN 38028\n",
            "Email: HCAPS. PayorRequest @secur e.com\n",
            "October 08, 2020\n",
            "Attn: Credentialing Department/Demographics Updates - TN\n",
            "RE: Adding location to provider demographics\n",
            "Provider Name: E Mary Mythili , MD\n",
            "NPI: 1760445457\n",
            "CAQH :11051777\n",
            "Specialty:Orthopaedic  Surgery\n",
            "Effective 09/09/2020, E Mary Mythili , MD will be adding the following practice location(s ).\n",
            "Please update your files to ASSOCIATE/ADD this provider to the demographic information listed below .\n",
            "Primary Practice Address:\n",
            "Legal Name: Little Mount Specialty Services, LLC\n",
            "Address:1160 E 3900 S Ste 5000\n",
            "Madurai, TN, 841241275\n",
            "Phone:801 -222-7479\n",
            "Fax:801 -222-7429\n",
            "Manager:Practice  Manager\n"
          ]
        }
      ]
    },
    {
      "cell_type": "code",
      "source": [
        "print(pages[1].page_content)"
      ],
      "metadata": {
        "id": "vFcyfgZ5vPPK",
        "outputId": "51f7b4e9-6d07-41fa-b12c-21914bdf360e",
        "colab": {
          "base_uri": "https://localhost:8080/"
        }
      },
      "execution_count": null,
      "outputs": [
        {
          "output_type": "stream",
          "name": "stdout",
          "text": [
            "Billing Address:\n",
            "Legal Name: Little Mount Specialty Services, LLC\n",
            "Address:PO  Box 100253\n",
            "Madurai, TN 303840253, Phone :615-373-7600\n",
            "New Practice Addresses :\n",
            "Legal Name: Little Mount Specialty Services, LLC\n",
            "Tax ID:061787666\n",
            "Address:74 E KIMBALLS LN\n",
            "STE 330\n",
            "Draper, TN 840220000\n",
            "Phone:801 -266-3564 Fax:801 -266-3613\n",
            " Manager:Practice  Manager\n",
            "If you have any additional questions, please contact me at the information below .\n",
            "Thank you,\n",
            "Sandy Mike\n",
            "Provider Enrollment Department\n",
            "Phone: 615-377-7610\n"
          ]
        }
      ]
    },
    {
      "cell_type": "code",
      "source": [
        "file_path = \"Sample_30_Fax_1.pdf\"\n",
        "loader = PyPDFLoader(file_path, extract_images=True)\n",
        "pages = loader.load_and_split()"
      ],
      "metadata": {
        "id": "SJU_YkL_vnVc"
      },
      "execution_count": null,
      "outputs": []
    },
    {
      "cell_type": "code",
      "source": [
        "print(pages[0].page_content)"
      ],
      "metadata": {
        "id": "B4BBHEwgvt7s",
        "outputId": "728c7a03-b028-46ea-c9be-53df0dba2e1f",
        "colab": {
          "base_uri": "https://localhost:8080/"
        }
      },
      "execution_count": null,
      "outputs": [
        {
          "output_type": "stream",
          "name": "stdout",
          "text": [
            "Chennai Regional Physician\n",
            "127 Besant Nagar,\n",
            "Chennai, TN, 44444\n",
            "Chennai\n",
            "111-22-3333\n",
            "To Whom it may concern,\n",
            "This Letter is notify TN a new provider Mani Murugan MD, joining our group Chennai\n",
            "regional physicians.\n",
            "Provider individual NPl number is 9999999999\n",
            "The effective dlate requested is 10/11/2020\n",
            "The group name is Chennai regional physician TIN - 62-2222222\n",
            "Practice address:\n",
            "Mailing / credlentialing Address:\n",
            "Billing Address:\n",
            "1 Raja st,\n",
            "127Kamaraiar st,\n",
            "PO BoX1111\n",
            "Adyar, CH 66666\n",
            "Adyar, CH 55555\n",
            "Adyar, CH - 1111\n",
            "P: 222-333-4444\n",
            "P: 666-888-9999\n",
            "P: 111-222-3333\n",
            "F:333-444-5555\n",
            "F: 111-000-1010\n",
            "F: 111-333-4444\n",
            "Thank you,\n",
            "Raja Krishnan,\n",
            "Credential specialist,\n",
            "Rajakcredential@secure.com\n",
            "Office: (222) 111 2222, Fax: (111) 555 6666\n"
          ]
        }
      ]
    },
    {
      "cell_type": "code",
      "source": [
        "from langchain_community.document_loaders import UnstructuredWordDocumentLoader"
      ],
      "metadata": {
        "id": "2jw4qnBkvvVh"
      },
      "execution_count": null,
      "outputs": []
    },
    {
      "cell_type": "code",
      "source": [
        "file_path = \"Sample_20.docx\"\n",
        "loader = UnstructuredWordDocumentLoader(file_path, mode=\"elements\")\n",
        "pages = loader.load_and_split()"
      ],
      "metadata": {
        "id": "4pLZeA9q0qCp"
      },
      "execution_count": null,
      "outputs": []
    },
    {
      "cell_type": "code",
      "source": [
        "print(pages)"
      ],
      "metadata": {
        "id": "WQIuw2Nc038w",
        "outputId": "41894555-5f4c-4b54-c163-cce8925a976e",
        "colab": {
          "base_uri": "https://localhost:8080/"
        }
      },
      "execution_count": null,
      "outputs": [
        {
          "output_type": "stream",
          "name": "stdout",
          "text": [
            "[Document(metadata={'source': 'Sample_20.docx', 'category_depth': 0, 'filename': 'Sample_20.docx', 'last_modified': '2024-07-12T07:23:03', 'languages': ['eng'], 'filetype': 'application/vnd.openxmlformats-officedocument.wordprocessingml.document', 'category': 'UncategorizedText'}, page_content='1184067779'), Document(metadata={'source': 'Sample_20.docx', 'category_depth': 0, 'emphasized_text_contents': ['PROVIDER NAME:', 'L', 'eon Sweatha', ', PT'], 'emphasized_text_tags': ['b', 'b', 'b', 'b'], 'filename': 'Sample_20.docx', 'last_modified': '2024-07-12T07:23:03', 'languages': ['eng'], 'filetype': 'application/vnd.openxmlformats-officedocument.wordprocessingml.document', 'category': 'Title'}, page_content='PROVIDER NAME: Leon Sweatha, PT'), Document(metadata={'source': 'Sample_20.docx', 'category_depth': 0, 'emphasized_text_contents': ['SPECIALTY:'], 'emphasized_text_tags': ['b'], 'filename': 'Sample_20.docx', 'last_modified': '2024-07-12T07:23:03', 'languages': ['eng'], 'filetype': 'application/vnd.openxmlformats-officedocument.wordprocessingml.document', 'category': 'Title'}, page_content='SPECIALTY: Physical Therapy'), Document(metadata={'source': 'Sample_20.docx', 'category_depth': 0, 'emphasized_text_contents': ['DOB'], 'emphasized_text_tags': ['b'], 'filename': 'Sample_20.docx', 'last_modified': '2024-07-12T07:23:03', 'languages': ['eng'], 'parent_id': '2d9859018863192cffbc9f96238cc1b8', 'filetype': 'application/vnd.openxmlformats-officedocument.wordprocessingml.document', 'category': 'UncategorizedText'}, page_content='DOB: 08/26/1985'), Document(metadata={'source': 'Sample_20.docx', 'category_depth': 0, 'emphasized_text_contents': ['NPI'], 'emphasized_text_tags': ['b'], 'filename': 'Sample_20.docx', 'last_modified': '2024-07-12T07:23:03', 'languages': ['eng'], 'parent_id': '2d9859018863192cffbc9f96238cc1b8', 'filetype': 'application/vnd.openxmlformats-officedocument.wordprocessingml.document', 'category': 'UncategorizedText'}, page_content='NPI: 8825614598'), Document(metadata={'source': 'Sample_20.docx', 'category_depth': 0, 'emphasized_text_contents': ['ABC', 'ID'], 'emphasized_text_tags': ['b', 'b'], 'filename': 'Sample_20.docx', 'last_modified': '2024-07-12T07:23:03', 'languages': ['eng'], 'parent_id': '2d9859018863192cffbc9f96238cc1b8', 'filetype': 'application/vnd.openxmlformats-officedocument.wordprocessingml.document', 'category': 'UncategorizedText'}, page_content='ABC ID: 231456'), Document(metadata={'source': 'Sample_20.docx', 'category_depth': 0, 'emphasized_text_contents': ['EFF DATE'], 'emphasized_text_tags': ['b'], 'filename': 'Sample_20.docx', 'last_modified': '2024-07-12T07:23:03', 'languages': ['eng'], 'parent_id': '2d9859018863192cffbc9f96238cc1b8', 'filetype': 'application/vnd.openxmlformats-officedocument.wordprocessingml.document', 'category': 'UncategorizedText'}, page_content='EFF DATE: 03/10/2020'), Document(metadata={'source': 'Sample_20.docx', 'category_depth': 0, 'emphasized_text_contents': ['VENDOR/GROUP NAME'], 'emphasized_text_tags': ['b'], 'filename': 'Sample_20.docx', 'last_modified': '2024-07-12T07:23:03', 'languages': ['eng'], 'filetype': 'application/vnd.openxmlformats-officedocument.wordprocessingml.document', 'category': 'Title'}, page_content='VENDOR/GROUP NAME: Mithran Rehab Center'), Document(metadata={'source': 'Sample_20.docx', 'category_depth': 0, 'emphasized_text_contents': ['TIN'], 'emphasized_text_tags': ['b'], 'filename': 'Sample_20.docx', 'last_modified': '2024-07-12T07:23:03', 'languages': ['eng'], 'parent_id': '75419cffd00526517a521c30cf915153', 'filetype': 'application/vnd.openxmlformats-officedocument.wordprocessingml.document', 'category': 'UncategorizedText'}, page_content='TIN: 111111122'), Document(metadata={'source': 'Sample_20.docx', 'category_depth': 0, 'emphasized_text_contents': ['EFF DATE'], 'emphasized_text_tags': ['b'], 'filename': 'Sample_20.docx', 'last_modified': '2024-07-12T07:23:03', 'languages': ['eng'], 'parent_id': '75419cffd00526517a521c30cf915153', 'filetype': 'application/vnd.openxmlformats-officedocument.wordprocessingml.document', 'category': 'UncategorizedText'}, page_content='EFF DATE: 03/10/2020'), Document(metadata={'source': 'Sample_20.docx', 'category_depth': 0, 'emphasized_text_contents': ['NETWORK'], 'emphasized_text_tags': ['b'], 'filename': 'Sample_20.docx', 'last_modified': '2024-07-12T07:23:03', 'languages': ['eng'], 'filetype': 'application/vnd.openxmlformats-officedocument.wordprocessingml.document', 'category': 'Title'}, page_content='NETWORK: ABC PPO/POS'), Document(metadata={'source': 'Sample_20.docx', 'category_depth': 0, 'emphasized_text_contents': ['CLASS'], 'emphasized_text_tags': ['b'], 'filename': 'Sample_20.docx', 'last_modified': '2024-07-12T07:23:03', 'languages': ['eng'], 'filetype': 'application/vnd.openxmlformats-officedocument.wordprocessingml.document', 'category': 'Title'}, page_content='CLASS: Allied Health'), Document(metadata={'source': 'Sample_20.docx', 'category_depth': 0, 'emphasized_text_contents': ['FEE SCHEDULE'], 'emphasized_text_tags': ['b'], 'filename': 'Sample_20.docx', 'last_modified': '2024-07-12T07:23:03', 'languages': ['eng'], 'filetype': 'application/vnd.openxmlformats-officedocument.wordprocessingml.document', 'category': 'Title'}, page_content='FEE SCHEDULE: P99 ABC Standard Procedure Fee Schedule'), Document(metadata={'source': 'Sample_20.docx', 'category_depth': 0, 'emphasized_text_contents': ['DIRECTORY STATUS'], 'emphasized_text_tags': ['b'], 'filename': 'Sample_20.docx', 'last_modified': '2024-07-12T07:23:03', 'languages': ['eng'], 'filetype': 'application/vnd.openxmlformats-officedocument.wordprocessingml.document', 'category': 'Title'}, page_content='DIRECTORY STATUS: Publish'), Document(metadata={'source': 'Sample_20.docx', 'category_depth': 0, 'emphasized_text_contents': ['ADD TO LOCAL PLUS:'], 'emphasized_text_tags': ['b'], 'filename': 'Sample_20.docx', 'last_modified': '2024-07-12T07:23:03', 'languages': ['eng'], 'filetype': 'application/vnd.openxmlformats-officedocument.wordprocessingml.document', 'category': 'Title'}, page_content='ADD TO LOCAL PLUS: N/A – Outside Service Area'), Document(metadata={'source': 'Sample_20.docx', 'emphasized_text_contents': ['Billing Address', 'Primary Address', 'Secondary Office Address', 'Secondary Office Address'], 'emphasized_text_tags': ['b', 'b', 'b', 'b'], 'filename': 'Sample_20.docx', 'last_modified': '2024-07-12T07:23:03', 'text_as_html': '<table>\\n<thead>\\n<tr></tr>\\n</thead>\\n<tbody>\\n</tbody>\\n</table>', 'languages': ['eng'], 'parent_id': 'a6948614f58f54d42db3be014833fe68', 'filetype': 'application/vnd.openxmlformats-officedocument.wordprocessingml.document', 'category': 'Table'}, page_content='Billing Address Primary Address Secondary Office Address Secondary Office Address Plot No.25 Door No.1-60/1 156 Gurukrupanagar 144 - LIG Street No. 8 222 2nd Floor Mahabalipuram, TN 66502 Madurai, TN 66502 Trichy, TN 66502 Poondi, TN 66801'), Document(metadata={'source': 'Sample_20.docx', 'category_depth': 0, 'emphasized_text_contents': ['VENDOR/GROUP NAME'], 'emphasized_text_tags': ['b'], 'filename': 'Sample_20.docx', 'last_modified': '2024-07-12T07:23:03', 'languages': ['eng'], 'filetype': 'application/vnd.openxmlformats-officedocument.wordprocessingml.document', 'category': 'Title'}, page_content='VENDOR/GROUP NAME: Madurai Medical LLC'), Document(metadata={'source': 'Sample_20.docx', 'category_depth': 0, 'emphasized_text_contents': ['TIN'], 'emphasized_text_tags': ['b'], 'filename': 'Sample_20.docx', 'last_modified': '2024-07-12T07:23:03', 'languages': ['eng'], 'parent_id': '5311ab2bb31e73e29c7c11b6ac2fce68', 'filetype': 'application/vnd.openxmlformats-officedocument.wordprocessingml.document', 'category': 'UncategorizedText'}, page_content='TIN: 111111123'), Document(metadata={'source': 'Sample_20.docx', 'category_depth': 0, 'emphasized_text_contents': ['EFF DATE'], 'emphasized_text_tags': ['b'], 'filename': 'Sample_20.docx', 'last_modified': '2024-07-12T07:23:03', 'languages': ['eng'], 'parent_id': '5311ab2bb31e73e29c7c11b6ac2fce68', 'filetype': 'application/vnd.openxmlformats-officedocument.wordprocessingml.document', 'category': 'UncategorizedText'}, page_content='EFF DATE: 03/10/2020'), Document(metadata={'source': 'Sample_20.docx', 'category_depth': 0, 'emphasized_text_contents': ['NETWORK'], 'emphasized_text_tags': ['b'], 'filename': 'Sample_20.docx', 'last_modified': '2024-07-12T07:23:03', 'languages': ['eng'], 'filetype': 'application/vnd.openxmlformats-officedocument.wordprocessingml.document', 'category': 'Title'}, page_content='NETWORK: ABC PPO/POS'), Document(metadata={'source': 'Sample_20.docx', 'category_depth': 0, 'emphasized_text_contents': ['CLASS'], 'emphasized_text_tags': ['b'], 'filename': 'Sample_20.docx', 'last_modified': '2024-07-12T07:23:03', 'languages': ['eng'], 'filetype': 'application/vnd.openxmlformats-officedocument.wordprocessingml.document', 'category': 'Title'}, page_content='CLASS: Allied Health'), Document(metadata={'source': 'Sample_20.docx', 'category_depth': 0, 'emphasized_text_contents': ['FEE SCHEDULE'], 'emphasized_text_tags': ['b'], 'filename': 'Sample_20.docx', 'last_modified': '2024-07-12T07:23:03', 'languages': ['eng'], 'filetype': 'application/vnd.openxmlformats-officedocument.wordprocessingml.document', 'category': 'Title'}, page_content='FEE SCHEDULE: P99 ABC Standard Procedure Fee Schedule'), Document(metadata={'source': 'Sample_20.docx', 'category_depth': 0, 'emphasized_text_contents': ['DIRECTORY STATUS'], 'emphasized_text_tags': ['b'], 'filename': 'Sample_20.docx', 'last_modified': '2024-07-12T07:23:03', 'languages': ['eng'], 'filetype': 'application/vnd.openxmlformats-officedocument.wordprocessingml.document', 'category': 'Title'}, page_content='DIRECTORY STATUS: Publish'), Document(metadata={'source': 'Sample_20.docx', 'category_depth': 0, 'emphasized_text_contents': ['ADD TO LOCAL PLUS:'], 'emphasized_text_tags': ['b'], 'filename': 'Sample_20.docx', 'last_modified': '2024-07-12T07:23:03', 'languages': ['eng'], 'filetype': 'application/vnd.openxmlformats-officedocument.wordprocessingml.document', 'category': 'Title'}, page_content='ADD TO LOCAL PLUS: N/A – Outside Service Area'), Document(metadata={'source': 'Sample_20.docx', 'emphasized_text_contents': ['Billing Address 2', 'Address Vendor 2'], 'emphasized_text_tags': ['b', 'b'], 'filename': 'Sample_20.docx', 'last_modified': '2024-07-12T07:23:03', 'text_as_html': '<table>\\n<thead>\\n<tr></tr>\\n</thead>\\n<tbody>\\n</tbody>\\n</table>', 'languages': ['eng'], 'parent_id': '34b9bcb6cb4a295cc1fd01e2b7fd18e2', 'filetype': 'application/vnd.openxmlformats-officedocument.wordprocessingml.document', 'category': 'Table'}, page_content='Billing Address 2 Address Vendor 2 58 New Mahada Colony Plot No-64&#34; Smaran&#34; Vrundavan Housing Society Mahabalipuram, TN 66502 Mahabalipuram, TN 66441'), Document(metadata={'source': 'Sample_20.docx', 'category_depth': 0, 'emphasized_text_contents': ['VENDOR/GROUP NAME'], 'emphasized_text_tags': ['b'], 'filename': 'Sample_20.docx', 'last_modified': '2024-07-12T07:23:03', 'languages': ['eng'], 'filetype': 'application/vnd.openxmlformats-officedocument.wordprocessingml.document', 'category': 'Title'}, page_content='VENDOR/GROUP NAME: Madurai Regional Health'), Document(metadata={'source': 'Sample_20.docx', 'category_depth': 0, 'emphasized_text_contents': ['TIN'], 'emphasized_text_tags': ['b'], 'filename': 'Sample_20.docx', 'last_modified': '2024-07-12T07:23:03', 'languages': ['eng'], 'parent_id': 'e41495a4ce369977a77546ac2f0388dc', 'filetype': 'application/vnd.openxmlformats-officedocument.wordprocessingml.document', 'category': 'UncategorizedText'}, page_content='TIN: 111111124'), Document(metadata={'source': 'Sample_20.docx', 'category_depth': 0, 'emphasized_text_contents': ['EFF DATE'], 'emphasized_text_tags': ['b'], 'filename': 'Sample_20.docx', 'last_modified': '2024-07-12T07:23:03', 'languages': ['eng'], 'parent_id': 'e41495a4ce369977a77546ac2f0388dc', 'filetype': 'application/vnd.openxmlformats-officedocument.wordprocessingml.document', 'category': 'UncategorizedText'}, page_content='EFF DATE: 03/10/2020'), Document(metadata={'source': 'Sample_20.docx', 'category_depth': 0, 'emphasized_text_contents': ['NETWORK'], 'emphasized_text_tags': ['b'], 'filename': 'Sample_20.docx', 'last_modified': '2024-07-12T07:23:03', 'languages': ['eng'], 'filetype': 'application/vnd.openxmlformats-officedocument.wordprocessingml.document', 'category': 'Title'}, page_content='NETWORK: ABC PPO/POS'), Document(metadata={'source': 'Sample_20.docx', 'category_depth': 0, 'emphasized_text_contents': ['CLASS'], 'emphasized_text_tags': ['b'], 'filename': 'Sample_20.docx', 'last_modified': '2024-07-12T07:23:03', 'languages': ['eng'], 'filetype': 'application/vnd.openxmlformats-officedocument.wordprocessingml.document', 'category': 'Title'}, page_content='CLASS: Allied Health'), Document(metadata={'source': 'Sample_20.docx', 'category_depth': 0, 'emphasized_text_contents': ['FEE SCHEDULE'], 'emphasized_text_tags': ['b'], 'filename': 'Sample_20.docx', 'last_modified': '2024-07-12T07:23:03', 'languages': ['eng'], 'filetype': 'application/vnd.openxmlformats-officedocument.wordprocessingml.document', 'category': 'Title'}, page_content='FEE SCHEDULE: P99 ABC Standard Procedure Fee Schedule'), Document(metadata={'source': 'Sample_20.docx', 'category_depth': 0, 'emphasized_text_contents': ['DIRECTORY STATUS'], 'emphasized_text_tags': ['b'], 'filename': 'Sample_20.docx', 'last_modified': '2024-07-12T07:23:03', 'languages': ['eng'], 'filetype': 'application/vnd.openxmlformats-officedocument.wordprocessingml.document', 'category': 'Title'}, page_content='DIRECTORY STATUS: Publish'), Document(metadata={'source': 'Sample_20.docx', 'category_depth': 0, 'emphasized_text_contents': ['ADD TO LOCAL PLUS:'], 'emphasized_text_tags': ['b'], 'filename': 'Sample_20.docx', 'last_modified': '2024-07-12T07:23:03', 'languages': ['eng'], 'filetype': 'application/vnd.openxmlformats-officedocument.wordprocessingml.document', 'category': 'Title'}, page_content='ADD TO LOCAL PLUS: N/A – Outside Service Area'), Document(metadata={'source': 'Sample_20.docx', 'emphasized_text_contents': ['Billing Address 3', 'Address Vendor 3'], 'emphasized_text_tags': ['b', 'b'], 'filename': 'Sample_20.docx', 'last_modified': '2024-07-12T07:23:03', 'text_as_html': '<table>\\n<thead>\\n<tr></tr>\\n</thead>\\n<tbody>\\n</tbody>\\n</table>', 'languages': ['eng'], 'parent_id': 'c1503fd586ba133bedb1afaa1cc9f89b', 'filetype': 'application/vnd.openxmlformats-officedocument.wordprocessingml.document', 'category': 'Table'}, page_content='Billing Address 3 Address Vendor 3 Plot No.10 Visakha B- Colony Plot no. 32/B-2 Krishna Society Madurai, TN 66801 Madurai, TN 66801'), Document(metadata={'source': 'Sample_20.docx', 'category_depth': 0, 'filename': 'Sample_20.docx', 'header_footer_type': 'primary', 'languages': ['eng'], 'filetype': 'application/vnd.openxmlformats-officedocument.wordprocessingml.document', 'category': 'Footer'}, page_content='Page 1 of 2')]\n"
          ]
        }
      ]
    },
    {
      "cell_type": "code",
      "source": [
        "%pip install --upgrade --quiet  docx2txt"
      ],
      "metadata": {
        "id": "2VtdKE2o1-Ji",
        "outputId": "a0b0517a-69f5-42d7-f528-a6df2efee3f7",
        "colab": {
          "base_uri": "https://localhost:8080/"
        }
      },
      "execution_count": null,
      "outputs": [
        {
          "output_type": "stream",
          "name": "stdout",
          "text": [
            "  Preparing metadata (setup.py) ... \u001b[?25l\u001b[?25hdone\n",
            "  Building wheel for docx2txt (setup.py) ... \u001b[?25l\u001b[?25hdone\n"
          ]
        }
      ]
    },
    {
      "cell_type": "code",
      "source": [
        "from langchain_community.document_loaders import Docx2txtLoader\n",
        "\n",
        "loader = Docx2txtLoader(\"Sample_20.docx\")\n",
        "\n",
        "data = loader.load()\n",
        "\n",
        "data"
      ],
      "metadata": {
        "id": "IvN-J0W02AlI",
        "outputId": "273f11eb-f2cc-4e5f-e6fc-be71d648605d",
        "colab": {
          "base_uri": "https://localhost:8080/"
        }
      },
      "execution_count": null,
      "outputs": [
        {
          "output_type": "execute_result",
          "data": {
            "text/plain": [
              "[Document(metadata={'source': 'Sample_20.docx'}, page_content='1184067779\\n\\nABC BASIC PROFILE LOADING INFORMATION\\n\\nABC BASIC PROFILE LOADING INFORMATION\\n\\n\\n\\n\\n\\nPROVIDER NAME: Leon Sweatha, PT    \\n\\nSPECIALTY: Physical Therapy\\n\\nDOB: 08/26/1985\\n\\nNPI: 8825614598\\n\\nABC ID: 231456\\n\\nEFF DATE: 03/10/2020\\n\\n\\n\\nVENDOR/GROUP NAME: Mithran Rehab Center\\n\\nTIN: 111111122\\n\\nEFF DATE: 03/10/2020\\n\\nNETWORK: ABC PPO/POS\\n\\nCLASS: Allied Health\\n\\nFEE SCHEDULE: P99 ABC Standard Procedure Fee Schedule\\n\\nDIRECTORY STATUS: Publish\\n\\nADD TO LOCAL PLUS: N/A – Outside Service Area\\n\\n\\n\\nBilling Address\\n\\nPrimary Address\\n\\nSecondary Office Address\\n\\nSecondary Office Address\\n\\nPlot No.25 Door No.1-60/1\\n\\n156 Gurukrupanagar 144 - LIG Street No. 8\\n\\n222 2nd Floor\\n\\nMahabalipuram, TN 66502\\n\\nMadurai, TN 66502\\n\\nTrichy, TN 66502\\n\\nPoondi, TN 66801\\n\\n\\n\\n\\n\\n\\n\\nVENDOR/GROUP NAME: Madurai Medical LLC\\n\\nTIN: 111111123\\n\\nEFF DATE: 03/10/2020\\n\\nNETWORK: ABC PPO/POS\\n\\nCLASS: Allied Health\\n\\nFEE SCHEDULE: P99 ABC Standard Procedure Fee Schedule\\n\\nDIRECTORY STATUS: Publish\\n\\nADD TO LOCAL PLUS: N/A – Outside Service Area\\n\\n\\n\\nBilling Address 2\\n\\nAddress Vendor 2\\n\\n58 New Mahada Colony\\n\\nPlot No-64&#34; Smaran&#34; Vrundavan Housing Society\\n\\nMahabalipuram, TN 66502\\n\\nMahabalipuram, TN 66441\\n\\n\\n\\n\\n\\n\\n\\n\\n\\n\\n\\n\\n\\n\\n\\n\\n\\n\\n\\nVENDOR/GROUP NAME: Madurai Regional Health\\n\\nTIN: 111111124\\n\\nEFF DATE: 03/10/2020\\n\\nNETWORK: ABC PPO/POS\\n\\nCLASS: Allied Health\\n\\nFEE SCHEDULE: P99 ABC Standard Procedure Fee Schedule\\n\\nDIRECTORY STATUS: Publish\\n\\nADD TO LOCAL PLUS: N/A – Outside Service Area\\n\\n\\n\\nBilling Address 3\\n\\nAddress Vendor 3\\n\\n\\n\\nPlot No.10 Visakha B- Colony\\n\\nPlot no. 32/B-2 Krishna Society\\n\\nMadurai, TN 66801\\n\\nMadurai, TN 66801\\n\\n\\n\\n\\n\\n\\n\\n\\n\\nPage 1 of 2')]"
            ]
          },
          "metadata": {},
          "execution_count": 58
        }
      ]
    },
    {
      "cell_type": "code",
      "source": [
        "print(data[0].page_content)"
      ],
      "metadata": {
        "id": "3UNDNOh62HeZ",
        "outputId": "e2ba5b9a-6b8a-4a42-841f-25d759bf7cf1",
        "colab": {
          "base_uri": "https://localhost:8080/"
        }
      },
      "execution_count": null,
      "outputs": [
        {
          "output_type": "stream",
          "name": "stdout",
          "text": [
            "1184067779\n",
            "\n",
            "ABC BASIC PROFILE LOADING INFORMATION\n",
            "\n",
            "ABC BASIC PROFILE LOADING INFORMATION\n",
            "\n",
            "\n",
            "\n",
            "\n",
            "\n",
            "PROVIDER NAME: Leon Sweatha, PT    \n",
            "\n",
            "SPECIALTY: Physical Therapy\n",
            "\n",
            "DOB: 08/26/1985\n",
            "\n",
            "NPI: 8825614598\n",
            "\n",
            "ABC ID: 231456\n",
            "\n",
            "EFF DATE: 03/10/2020\n",
            "\n",
            "\n",
            "\n",
            "VENDOR/GROUP NAME: Mithran Rehab Center\n",
            "\n",
            "TIN: 111111122\n",
            "\n",
            "EFF DATE: 03/10/2020\n",
            "\n",
            "NETWORK: ABC PPO/POS\n",
            "\n",
            "CLASS: Allied Health\n",
            "\n",
            "FEE SCHEDULE: P99 ABC Standard Procedure Fee Schedule\n",
            "\n",
            "DIRECTORY STATUS: Publish\n",
            "\n",
            "ADD TO LOCAL PLUS: N/A – Outside Service Area\n",
            "\n",
            "\n",
            "\n",
            "Billing Address\n",
            "\n",
            "Primary Address\n",
            "\n",
            "Secondary Office Address\n",
            "\n",
            "Secondary Office Address\n",
            "\n",
            "Plot No.25 Door No.1-60/1\n",
            "\n",
            "156 Gurukrupanagar 144 - LIG Street No. 8\n",
            "\n",
            "222 2nd Floor\n",
            "\n",
            "Mahabalipuram, TN 66502\n",
            "\n",
            "Madurai, TN 66502\n",
            "\n",
            "Trichy, TN 66502\n",
            "\n",
            "Poondi, TN 66801\n",
            "\n",
            "\n",
            "\n",
            "\n",
            "\n",
            "\n",
            "\n",
            "VENDOR/GROUP NAME: Madurai Medical LLC\n",
            "\n",
            "TIN: 111111123\n",
            "\n",
            "EFF DATE: 03/10/2020\n",
            "\n",
            "NETWORK: ABC PPO/POS\n",
            "\n",
            "CLASS: Allied Health\n",
            "\n",
            "FEE SCHEDULE: P99 ABC Standard Procedure Fee Schedule\n",
            "\n",
            "DIRECTORY STATUS: Publish\n",
            "\n",
            "ADD TO LOCAL PLUS: N/A – Outside Service Area\n",
            "\n",
            "\n",
            "\n",
            "Billing Address 2\n",
            "\n",
            "Address Vendor 2\n",
            "\n",
            "58 New Mahada Colony\n",
            "\n",
            "Plot No-64&#34; Smaran&#34; Vrundavan Housing Society\n",
            "\n",
            "Mahabalipuram, TN 66502\n",
            "\n",
            "Mahabalipuram, TN 66441\n",
            "\n",
            "\n",
            "\n",
            "\n",
            "\n",
            "\n",
            "\n",
            "\n",
            "\n",
            "\n",
            "\n",
            "\n",
            "\n",
            "\n",
            "\n",
            "\n",
            "\n",
            "\n",
            "\n",
            "VENDOR/GROUP NAME: Madurai Regional Health\n",
            "\n",
            "TIN: 111111124\n",
            "\n",
            "EFF DATE: 03/10/2020\n",
            "\n",
            "NETWORK: ABC PPO/POS\n",
            "\n",
            "CLASS: Allied Health\n",
            "\n",
            "FEE SCHEDULE: P99 ABC Standard Procedure Fee Schedule\n",
            "\n",
            "DIRECTORY STATUS: Publish\n",
            "\n",
            "ADD TO LOCAL PLUS: N/A – Outside Service Area\n",
            "\n",
            "\n",
            "\n",
            "Billing Address 3\n",
            "\n",
            "Address Vendor 3\n",
            "\n",
            "\n",
            "\n",
            "Plot No.10 Visakha B- Colony\n",
            "\n",
            "Plot no. 32/B-2 Krishna Society\n",
            "\n",
            "Madurai, TN 66801\n",
            "\n",
            "Madurai, TN 66801\n",
            "\n",
            "\n",
            "\n",
            "\n",
            "\n",
            "\n",
            "\n",
            "\n",
            "\n",
            "Page 1 of 2\n"
          ]
        }
      ]
    },
    {
      "cell_type": "markdown",
      "source": [
        "## Get content in email"
      ],
      "metadata": {
        "id": "qABKw-jJQjYS"
      }
    },
    {
      "cell_type": "code",
      "source": [
        "%pip install --upgrade --quiet extract_msg"
      ],
      "metadata": {
        "id": "t7Rz2HdTQlG8"
      },
      "execution_count": null,
      "outputs": []
    },
    {
      "cell_type": "code",
      "source": [
        "from langchain_community.document_loaders import OutlookMessageLoader\n",
        "\n",
        "loader = OutlookMessageLoader(\"example_data/fake-email.msg\")\n",
        "\n",
        "data = loader.load()\n",
        "\n",
        "data[0]"
      ],
      "metadata": {
        "id": "svpzHn6cQnvm"
      },
      "execution_count": null,
      "outputs": []
    }
  ]
}