{
  "nbformat": 4,
  "nbformat_minor": 0,
  "metadata": {
    "colab": {
      "provenance": [],
      "include_colab_link": true
    },
    "kernelspec": {
      "name": "python3",
      "display_name": "Python 3"
    },
    "language_info": {
      "name": "python"
    }
  },
  "cells": [
    {
      "cell_type": "markdown",
      "metadata": {
        "id": "view-in-github",
        "colab_type": "text"
      },
      "source": [
        "<a href=\"https://colab.research.google.com/github/rahiakela/general-utility-notebooks/blob/main/unstructured_data_extraction_part2.ipynb\" target=\"_parent\"><img src=\"https://colab.research.google.com/assets/colab-badge.svg\" alt=\"Open In Colab\"/></a>"
      ]
    },
    {
      "cell_type": "markdown",
      "source": [
        "# Unstructured - data extraction"
      ],
      "metadata": {
        "id": "bXfuGoJFxrFx"
      }
    },
    {
      "cell_type": "markdown",
      "source": [
        "## Setup"
      ],
      "metadata": {
        "id": "Sp026Z98x1Lk"
      }
    },
    {
      "cell_type": "code",
      "source": [
        "%%capture\n",
        "!apt-get install poppler-utils\n",
        "!apt-get install tesseract-ocr-all\n",
        "# unstructured 0.11.5\n",
        "# unstructured-inference 0.7.19\n",
        "!pip install unstructured[all-docs] unstructured-inference\n",
        "!pip install langchain-community\n",
        "!pip install --upgrade --quiet rapidocr-onnxruntime\n",
        "!pip install --upgrade --quiet extract_msg"
      ],
      "metadata": {
        "id": "xIfLbhqF70eP"
      },
      "execution_count": 1,
      "outputs": []
    },
    {
      "cell_type": "markdown",
      "source": [
        "**Restart session in Colab!**"
      ],
      "metadata": {
        "id": "7xJKVdcZxvgV"
      }
    },
    {
      "cell_type": "code",
      "source": [
        "from langchain_community.document_loaders import PyPDFLoader\n",
        "from langchain_community.document_loaders import UnstructuredWordDocumentLoader\n",
        "from langchain_community.document_loaders import OutlookMessageLoader"
      ],
      "metadata": {
        "id": "fLONYOlTVF_a"
      },
      "execution_count": 1,
      "outputs": []
    },
    {
      "cell_type": "markdown",
      "source": [
        "## Data extraction"
      ],
      "metadata": {
        "id": "y8D9WRR3uUrq"
      }
    },
    {
      "cell_type": "code",
      "source": [
        "def extract_text(file_path, file_type):\n",
        "\n",
        "  if file_type == \"pdf\":\n",
        "    loader = PyPDFLoader(file_path, extract_images=True)\n",
        "    pages = loader.load_and_split()\n",
        "  elif file_type == \"docx\":\n",
        "    loader = UnstructuredWordDocumentLoader(file_path)\n",
        "    pages = loader.load_and_split()\n",
        "  elif file_type == \"email\":\n",
        "    loader = OutlookMessageLoader(file_path)\n",
        "    pages = loader.load_and_split()\n",
        "\n",
        "  page_text = \"\"\n",
        "  for page in pages:\n",
        "    page_text += \"\".join(page.page_content)\n",
        "  return page_text"
      ],
      "metadata": {
        "id": "Tyk6QvN9TJRJ"
      },
      "execution_count": 7,
      "outputs": []
    },
    {
      "cell_type": "code",
      "source": [
        "print(extract_text(\"Sample_27.pdf\", \"pdf\"))"
      ],
      "metadata": {
        "colab": {
          "base_uri": "https://localhost:8080/"
        },
        "id": "Tw_S7uE5U6Sc",
        "outputId": "f6a0ce5c-fef5-40ff-aaf7-fdc101f6d764"
      },
      "execution_count": 6,
      "outputs": [
        {
          "output_type": "stream",
          "name": "stdout",
          "text": [
            "Provider Enrollment Department\n",
            "2000 Health Park Drive\n",
            "Madura i, TN 38028\n",
            "Email: HCAPS. PayorRequest @secur e.com\n",
            "October 08, 2020\n",
            "Attn: Credentialing Department/Demographics Updates - TN\n",
            "RE: Adding location to provider demographics\n",
            "Provider Name: E Mary Mythili , MD\n",
            "NPI: 1760445457\n",
            "CAQH :11051777\n",
            "Specialty:Orthopaedic  Surgery\n",
            "Effective 09/09/2020, E Mary Mythili , MD will be adding the following practice location(s ).\n",
            "Please update your files to ASSOCIATE/ADD this provider to the demographic information listed below .\n",
            "Primary Practice Address:\n",
            "Legal Name: Little Mount Specialty Services, LLC\n",
            "Address:1160 E 3900 S Ste 5000\n",
            "Madurai, TN, 841241275\n",
            "Phone:801 -222-7479\n",
            "Fax:801 -222-7429\n",
            "Manager:Practice  ManagerBilling Address:\n",
            "Legal Name: Little Mount Specialty Services, LLC\n",
            "Address:PO  Box 100253\n",
            "Madurai, TN 303840253, Phone :615-373-7600\n",
            "New Practice Addresses :\n",
            "Legal Name: Little Mount Specialty Services, LLC\n",
            "Tax ID:061787666\n",
            "Address:74 E KIMBALLS LN\n",
            "STE 330\n",
            "Draper, TN 840220000\n",
            "Phone:801 -266-3564 Fax:801 -266-3613\n",
            " Manager:Practice  Manager\n",
            "If you have any additional questions, please contact me at the information below .\n",
            "Thank you,\n",
            "Sandy Mike\n",
            "Provider Enrollment Department\n",
            "Phone: 615-377-7610\n"
          ]
        }
      ]
    },
    {
      "cell_type": "code",
      "source": [
        "print(extract_text(\"Sample_30_Fax_1.pdf\", \"pdf\"))"
      ],
      "metadata": {
        "colab": {
          "base_uri": "https://localhost:8080/"
        },
        "id": "BPRdzZMAWfDg",
        "outputId": "a371129a-fa05-4427-ee82-553f8919d78a"
      },
      "execution_count": 8,
      "outputs": [
        {
          "output_type": "stream",
          "name": "stdout",
          "text": [
            "Chennai Regional Physician\n",
            "127 Besant Nagar,\n",
            "Chennai, TN, 44444\n",
            "Chennai\n",
            "111-22-3333\n",
            "To Whom it may concern,\n",
            "This Letter is notify TN a new provider Mani Murugan MD, joining our group Chennai\n",
            "regional physicians.\n",
            "Provider individual NPl number is 9999999999\n",
            "The effective dlate requested is 10/11/2020\n",
            "The group name is Chennai regional physician TIN - 62-2222222\n",
            "Practice address:\n",
            "Mailing / credlentialing Address:\n",
            "Billing Address:\n",
            "1 Raja st,\n",
            "127Kamaraiar st,\n",
            "PO BoX1111\n",
            "Adyar, CH 66666\n",
            "Adyar, CH 55555\n",
            "Adyar, CH - 1111\n",
            "P: 222-333-4444\n",
            "P: 666-888-9999\n",
            "P: 111-222-3333\n",
            "F:333-444-5555\n",
            "F: 111-000-1010\n",
            "F: 111-333-4444\n",
            "Thank you,\n",
            "Raja Krishnan,\n",
            "Credential specialist,\n",
            "Rajakcredential@secure.com\n",
            "Office: (222) 111 2222, Fax: (111) 555 6666\n"
          ]
        }
      ]
    },
    {
      "cell_type": "code",
      "source": [
        "print(extract_text(\"Sample_20.docx\", \"docx\"))"
      ],
      "metadata": {
        "id": "2jw4qnBkvvVh",
        "colab": {
          "base_uri": "https://localhost:8080/"
        },
        "outputId": "25e3fc1b-a07c-49a1-8d82-75c4260dc07d"
      },
      "execution_count": 9,
      "outputs": [
        {
          "output_type": "stream",
          "name": "stdout",
          "text": [
            "1184067779\n",
            "\n",
            "PROVIDER NAME: Leon Sweatha, PT    \n",
            "\n",
            "SPECIALTY: Physical Therapy\n",
            "\n",
            "DOB: 08/26/1985\n",
            "\n",
            "NPI: 8825614598\n",
            "\n",
            "ABC ID: 231456\n",
            "\n",
            "EFF DATE: 03/10/2020\n",
            "\n",
            "VENDOR/GROUP NAME: Mithran Rehab Center\n",
            "\n",
            "TIN: 111111122\n",
            "\n",
            "EFF DATE: 03/10/2020\n",
            "\n",
            "NETWORK: ABC PPO/POS\n",
            "\n",
            "CLASS: Allied Health\n",
            "\n",
            "FEE SCHEDULE: P99 ABC Standard Procedure Fee Schedule\n",
            "\n",
            "DIRECTORY STATUS: Publish\n",
            "\n",
            "ADD TO LOCAL PLUS: N/A – Outside Service Area\n",
            "\n",
            "Billing Address Primary Address Secondary Office Address Secondary Office Address Plot No.25 Door No.1-60/1 156 Gurukrupanagar 144 - LIG Street No. 8 222 2nd Floor Mahabalipuram, TN 66502 Madurai, TN 66502 Trichy, TN 66502 Poondi, TN 66801\n",
            "\n",
            "VENDOR/GROUP NAME: Madurai Medical LLC\n",
            "\n",
            "TIN: 111111123\n",
            "\n",
            "EFF DATE: 03/10/2020\n",
            "\n",
            "NETWORK: ABC PPO/POS\n",
            "\n",
            "CLASS: Allied Health\n",
            "\n",
            "FEE SCHEDULE: P99 ABC Standard Procedure Fee Schedule\n",
            "\n",
            "DIRECTORY STATUS: Publish\n",
            "\n",
            "ADD TO LOCAL PLUS: N/A – Outside Service Area\n",
            "\n",
            "Billing Address 2 Address Vendor 2 58 New Mahada Colony Plot No-64&#34; Smaran&#34; Vrundavan Housing Society Mahabalipuram, TN 66502 Mahabalipuram, TN 66441\n",
            "\n",
            "VENDOR/GROUP NAME: Madurai Regional Health\n",
            "\n",
            "TIN: 111111124\n",
            "\n",
            "EFF DATE: 03/10/2020\n",
            "\n",
            "NETWORK: ABC PPO/POS\n",
            "\n",
            "CLASS: Allied Health\n",
            "\n",
            "FEE SCHEDULE: P99 ABC Standard Procedure Fee Schedule\n",
            "\n",
            "DIRECTORY STATUS: Publish\n",
            "\n",
            "ADD TO LOCAL PLUS: N/A – Outside Service Area\n",
            "\n",
            "Billing Address 3 Address Vendor 3 Plot No.10 Visakha B- Colony Plot no. 32/B-2 Krishna Society Madurai, TN 66801 Madurai, TN 66801\n",
            "\n",
            "Page 1 of 2\n"
          ]
        }
      ]
    },
    {
      "cell_type": "code",
      "source": [
        "print(extract_text(\"Sample_4_Credentialing_request_Smith.msg\", \"email\"))"
      ],
      "metadata": {
        "colab": {
          "base_uri": "https://localhost:8080/"
        },
        "id": "asip0vZUXP5e",
        "outputId": "6f56d379-d4c8-4011-d694-64e0524a1a4e"
      },
      "execution_count": 10,
      "outputs": [
        {
          "output_type": "stream",
          "name": "stdout",
          "text": [
            "Hello, I would like to request the provider below to be in network with Cigna and added to our group. Thank you\r\n",
            "\r\n",
            " \r\n",
            "\r\n",
            " \r\n",
            "\r\n",
            "Group information\r\n",
            "\r\n",
            "Sample, PC\r\n",
            "\r\n",
            "Tin 45-45-45454\r\n",
            "\r\n",
            " \r\n",
            "\r\n",
            "Provider\r\n",
            "\r\n",
            "Mani Smith, PA\r\n",
            "\r\n",
            "NPI 2323232323\r\n",
            "\r\n",
            "CAQH 13000355\r\n",
            "\r\n",
            " \r\n",
            "\r\n",
            " \r\n",
            "\r\n",
            "              Wonder Cherry, Credentialing Coordinator\r\n",
            "\r\n",
            " \r\n",
            "\r\n",
            "              (260) 407-0000 x661\r\n",
            "\r\n",
            " \r\n",
            "\r\n",
            "              www.Sender.com <https://apc01.safelinks.protection.outlook.com/?url=http%3A%2F%2Fwww.sender.com%2F&data=05%7C02%7CJAYAKARTHIK.R%40cognizant.com%7Cdc9742bcba804224fc7008dc8c7bfada%7Cde08c40719b9427d9fe8edf254300ca7%7C0%7C0%7C638539711325735352%7CUnknown%7CTWFpbGZsb3d8eyJWIjoiMC4wLjAwMDAiLCJQIjoiV2luMzIiLCJBTiI6Ik1haWwiLCJXVCI6Mn0%3D%7C0%7C%7C%7C&sdata=Rez%2Fm9pXHYDeZybkgbE3kQZt7Q5PkTCMMv%2FP%2B%2FBPV5Y%3D&reserved=0> \r\n",
            "\r\n",
            " \r\n",
            "\r\n",
            "              7620 W Jeni Blvd, chennai, TN 46804\r\n",
            "\r\n",
            " \r\n",
            "\r\n",
            " \r\n",
            "\r\n",
            "CONFIDENTIALITY NOTICE: This e-mail, including any attachments, may contain confidential information which is intended only for the use of the individual(s) or entitled named. If you receive this e-mail message in error, please immediately notify the sender and delete this email and any attachments. Dissemination, forwarding, printing or copying of this e-mail without prior consent of the sender is strictly prohibited. Thank you for your compliance.\n"
          ]
        }
      ]
    }
  ]
}